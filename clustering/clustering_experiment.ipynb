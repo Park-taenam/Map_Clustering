{
 "cells": [
  {
   "cell_type": "markdown",
   "metadata": {},
   "source": [
    "# Experiment"
   ]
  },
  {
   "cell_type": "code",
   "execution_count": 24,
   "metadata": {},
   "outputs": [],
   "source": [
    "import os\n",
    "import numpy as np\n",
    "import pandas as pd\n",
    "import matplotlib.pyplot as plt\n",
    "from haversine import haversine\n",
    "from sklearn.cluster import KMeans\n",
    "import scipy.stats as stats\n",
    "import folium\n",
    "import itertools\n",
    "import statistics\n",
    "import string\n",
    "import timeit\n",
    "import random\n",
    "\n",
    "import warnings\n",
    "warnings.filterwarnings(\"ignore\")"
   ]
  },
  {
   "cell_type": "markdown",
   "metadata": {},
   "source": [
    "## Algorithm"
   ]
  },
  {
   "cell_type": "markdown",
   "metadata": {},
   "source": [
    "### Naver Map API"
   ]
  },
  {
   "cell_type": "code",
   "execution_count": 25,
   "metadata": {},
   "outputs": [],
   "source": [
    "# *-- Geocoding 활용 코드 --*\n",
    "import json\n",
    "import urllib\n",
    "from urllib.request import Request, urlopen"
   ]
  },
  {
   "cell_type": "code",
   "execution_count": 26,
   "metadata": {},
   "outputs": [],
   "source": [
    "# 주소에 geocoding 적용하는 함수를 작성.\n",
    "def get_location(loc) :\n",
    "    # 내 고유값임 (공개안되도록)\n",
    "    client_id = 'wi1vd6qb31'\n",
    "    client_secret = 'NWOOthvHMkC11OEqF93vhqXPzsTellMMEq08gtf4'\n",
    "\n",
    "    url = f\"https://naveropenapi.apigw.ntruss.com/map-geocode/v2/geocode?query=\" \\\n",
    "    \t\t\t+ urllib.parse.quote(loc)\n",
    "    \n",
    "    # 주소 변환\n",
    "    request = urllib.request.Request(url)\n",
    "    request.add_header('X-NCP-APIGW-API-KEY-ID', client_id)\n",
    "    request.add_header('X-NCP-APIGW-API-KEY', client_secret)\n",
    "    \n",
    "    response = urlopen(request)\n",
    "    res = response.getcode()\n",
    "    \n",
    "    if (res == 200) : # 응답이 정상적으로 완료되면 200을 return\n",
    "        response_body = response.read().decode('utf-8')\n",
    "        response_body = json.loads(response_body)\n",
    "        # print(response_body)\n",
    "        \n",
    "        # 주소가 존재할 경우 total count == 1이 반환됨.\n",
    "        if response_body['meta']['totalCount'] == 1 : \n",
    "        \t# 위도, 경도 좌표를 받아와서 return해 줌.\n",
    "            lat = response_body['addresses'][0]['y']\n",
    "            lon = response_body['addresses'][0]['x']\n",
    "            return (lon, lat)\n",
    "        else :\n",
    "            print('location not exist')\n",
    "        \n",
    "    else :\n",
    "        print('ERROR')"
   ]
  },
  {
   "cell_type": "code",
   "execution_count": 27,
   "metadata": {},
   "outputs": [],
   "source": [
    "# *-- Directions 5 활용 코드 --*\n",
    "\n",
    "# option : 탐색옵션 [최대 3개, traoptimal(기본 옵션)]\n",
    "# trafast 실시간 빠른길\n",
    "# tracomfort 실시간 편한길\n",
    "# traoptimal 실시간 최적\n",
    "# traavoidtoll 무료 우선\n",
    "# traavoidcaronly 자동차 전용도로 회피 우선\n",
    "option = 'traoptimal'\n",
    "\n",
    "def get_optimal_route(start, goal, option=option ) :\n",
    "\n",
    "    # 내 고유값임 (공개안되도록)\n",
    "    client_id = 'wi1vd6qb31'\n",
    "    client_secret = 'NWOOthvHMkC11OEqF93vhqXPzsTellMMEq08gtf4'\n",
    "\n",
    "    # start=/goal=/(waypoint=)/(option=) 순으로 request parameter 지정\n",
    "    url = f\"https://naveropenapi.apigw.ntruss.com/map-direction-15/v1/driving?start={start[0]},{start[1]}&goal={goal[0]},{goal[1]}&option={option}\"\n",
    "    request = urllib.request.Request(url)\n",
    "    request.add_header('X-NCP-APIGW-API-KEY-ID', client_id)\n",
    "    request.add_header('X-NCP-APIGW-API-KEY', client_secret)\n",
    "    \n",
    "    response = urllib.request.urlopen(request)\n",
    "    res = response.getcode()\n",
    "    \n",
    "    if (res == 200) :\n",
    "        response_body = response.read().decode('utf-8')\n",
    "        return json.loads(response_body)\n",
    "            \n",
    "    else :\n",
    "        print('ERROR')"
   ]
  },
  {
   "cell_type": "code",
   "execution_count": 28,
   "metadata": {},
   "outputs": [],
   "source": [
    "# 주소에서 위도, 경도 뽑고 dataframe 만드는 함수\n",
    "def geo_df_coding(addresses):\n",
    "    geo_list = []\n",
    "    for address in addresses:\n",
    "        geo_list.append(get_location(address))\n",
    "        \n",
    "    geo_df = pd.DataFrame(geo_list)\n",
    "    geo_df.columns = ['longitude', 'latitude']\n",
    "    geo_df = geo_df[['latitude', 'longitude']]\n",
    "    \n",
    "    return geo_df, geo_list"
   ]
  },
  {
   "cell_type": "code",
   "execution_count": 29,
   "metadata": {},
   "outputs": [],
   "source": [
    "# 각 점 간도로상 거리, 시간 계산해주는 함수\n",
    "def dist_time_mat(geo_df, geo_list):\n",
    "    dist_mat = np.zeros((geo_df.shape[0], geo_df.shape[0]))\n",
    "    time_mat = np.zeros((geo_df.shape[0], geo_df.shape[0]))\n",
    "\n",
    "    option = 'traoptimal'\n",
    "    for i in range(geo_df.shape[0]):\n",
    "        for j in range(geo_df.shape[0]):\n",
    "            if (i==j):\n",
    "                dist_mat[i][j] = 0\n",
    "                time_mat[i][j] = 0\n",
    "            else:\n",
    "                results = get_optimal_route(start = geo_list[i], goal = geo_list[j], option=option)\n",
    "\n",
    "                dist_mat[i][j] = results['route']['traoptimal'][0]['summary'][\"distance\"]\n",
    "                time_mat[i][j] = results['route']['traoptimal'][0]['summary'][\"duration\"]\n",
    "                \n",
    "    return dist_mat, time_mat"
   ]
  },
  {
   "cell_type": "code",
   "execution_count": 30,
   "metadata": {},
   "outputs": [],
   "source": [
    "# 출발지로부터 각 점에 대한 거리, 시간 계산\n",
    "def dist_time_start(start, geo_list):\n",
    "    start_loc = get_location(start)\n",
    "    \n",
    "    dist_list = []\n",
    "    time_list = []\n",
    "\n",
    "    option = 'traoptimal'\n",
    "\n",
    "    for i in range(len(geo_list)):\n",
    "        results = get_optimal_route(start = start_loc, goal = geo_list[i], option=option)\n",
    "\n",
    "        dist_list.append(results['route']['traoptimal'][0]['summary'][\"distance\"])\n",
    "        time_list.append(results['route']['traoptimal'][0]['summary'][\"duration\"])\n",
    "    \n",
    "    return dist_list, time_list"
   ]
  },
  {
   "cell_type": "markdown",
   "metadata": {},
   "source": [
    "### Clustering Algorithm"
   ]
  },
  {
   "cell_type": "code",
   "execution_count": 31,
   "metadata": {},
   "outputs": [],
   "source": [
    "# k-means 적용\n",
    "def k_means(geo_df, k):\n",
    "    geo_df_k = geo_df.copy()\n",
    "        \n",
    "    geo_df_k = geo_df_k.astype('float')\n",
    "    \n",
    "    model = KMeans(n_clusters=k, init='k-means++')\n",
    "    model.fit(geo_df)\n",
    "    labels = model.predict(geo_df.values)\n",
    "    geo_df_k['labels'] = labels\n",
    "    \n",
    "    return geo_df_k"
   ]
  },
  {
   "cell_type": "code",
   "execution_count": 32,
   "metadata": {},
   "outputs": [],
   "source": [
    "def randomly_initialization(geo_df, k):\n",
    "    geo_df_k = geo_df.copy()\n",
    "    \n",
    "    geo_df_k = geo_df_k.astype('float')\n",
    "    for i in range(geo_df_k.shape[0]):\n",
    "        geo_df_k.loc[i, 'labels'] = random.randint(0, k-1)\n",
    "    \n",
    "    return geo_df_k"
   ]
  },
  {
   "cell_type": "code",
   "execution_count": 33,
   "metadata": {},
   "outputs": [],
   "source": [
    "# 각 그룹에서 출발점으로부터 모든 정점을 거쳤을 때 최단거리 산출하는 함수\n",
    "# 1. 모든 정점 순서 경우 고려 (permutation)\n",
    "# 2. 그 순서의 거리의 합을 따져서 최단거리 산출\n",
    "def min_dist_start(geo_df_k, label, dist_list_start, dist_mat):\n",
    "    '''\n",
    "    Input : df, label(군집), dist_list_start(시작-점 거리), dist_mat(점-점 거리)\n",
    "    Return : 출발점으로부터 군집의 모든 정점을 거쳤을 때 최단거리\n",
    "    '''\n",
    "    \n",
    "    # 모든 point 순서 고려 (permutation)\n",
    "    permutations = list(itertools.permutations(geo_df_k[geo_df_k['labels']==label].index, sum(geo_df_k['labels']==label)))\n",
    "    \n",
    "    # 모든 경우 거리 합 계산 후 최소값 산출\n",
    "    dist_sum_lst = []\n",
    "    for i in range(len(permutations)):\n",
    "        # 출발점(도봉구청)과 첫번째 점의 거리 초기화\n",
    "        dist_sum =  dist_list_start[permutations[i][0]]\n",
    "        # 순서대로 합 더해줌\n",
    "        for j in range(len(permutations[0])-1):\n",
    "            dist_sum += dist_mat[permutations[i][j], permutations[i][j+1]]\n",
    "        dist_sum_lst.append(dist_sum)\n",
    "\n",
    "    # 가장 작은 값 -> 최단거리\n",
    "    return min(dist_sum_lst)"
   ]
  },
  {
   "cell_type": "code",
   "execution_count": 34,
   "metadata": {},
   "outputs": [],
   "source": [
    "# 각 그룹에서 출발점으로부터 모든 정점을 거쳤을 때 최단거리인 경우 들린 순서 산출하는 함수\n",
    "# 1. 모든 정점 순서 경우 고려 (permutation)\n",
    "# 2. 그 순서의 거리의 합을 따져서 최단거리 산출\n",
    "def min_dist_start_order(geo_df_k, label, dist_list_start, dist_mat):\n",
    "    '''\n",
    "    Input : df, label(군집), dist_list_start(시작-점 거리), dist_mat(점-점 거리)\n",
    "    Return : 출발점으로부터 군집의 모든 정점을 거쳤을 때 최단거리인 경우 들린 순서\n",
    "    '''\n",
    "\n",
    "    # 모든 point 순서 고려 (permutation)\n",
    "    permutations = list(itertools.permutations(geo_df_k[geo_df_k['labels']==label].index, sum(geo_df_k['labels']==label)))\n",
    "    \n",
    "    # 모든 경우 거리 합 계산 후 최소값 산출\n",
    "    dist_sum_lst = []\n",
    "    for i in range(len(permutations)):\n",
    "        # 출발점(도봉구청)과 첫번째 점의 거리 초기화\n",
    "        dist_sum =  dist_list_start[permutations[i][0]]\n",
    "        # 순서대로 합 더해줌\n",
    "        for j in range(len(permutations[0])-1):\n",
    "            dist_sum += dist_mat[permutations[i][j], permutations[i][j+1]]\n",
    "        dist_sum_lst.append(dist_sum)\n",
    "\n",
    "    # 가장 작은 값 -> 최단거리순서\n",
    "    return permutations[np.argmin(dist_sum_lst)]"
   ]
  },
  {
   "cell_type": "code",
   "execution_count": 35,
   "metadata": {},
   "outputs": [],
   "source": [
    "# 각 군집의 출발점으로부터 최단거리끼리 차이의 분산\n",
    "def start_var_diff(geo_df_k, dist_list_start, dist_mat):\n",
    "    '''\n",
    "    Input : df, dist_list_start(시작-점 거리), dist_mat(점-점 거리)\n",
    "    Return : 각 군집의 출발점으로부터 최단거리 모든 조합 차이의 분산\n",
    "    '''\n",
    "    min_distance = []\n",
    "    for i in geo_df_k['labels'].unique():\n",
    "        min_distance.append(min_dist_start(geo_df_k, i, dist_list_start, dist_mat))\n",
    "\n",
    "    # k combination 2 : 2개씩 차이의 분산\n",
    "    combinations = list(itertools.combinations(geo_df_k['labels'].unique(), 2))\n",
    "    \n",
    "    diff_list = []\n",
    "    for i, j in combinations:\n",
    "        diff = np.abs(min_distance[i] - min_distance[j])\n",
    "        diff_list.append(float(diff))\n",
    "\n",
    "    return statistics.variance(diff_list)"
   ]
  },
  {
   "cell_type": "code",
   "execution_count": 36,
   "metadata": {},
   "outputs": [],
   "source": [
    "# 다른 군집 point 중 해당 군집에 가장 가까운 point를 해당 군집으로 포함시키는 함수\n",
    "# 중심점에서 가장 가까운 point 해당 군집으로 포함시킴\n",
    "def near_point_start(geo_df_k, label):\n",
    "    '''\n",
    "    Input : df, 변경할 군집\n",
    "    Return : 군집의 중심에서 다른 군집 point 중 가장 가까운 point 해당 군집으로 변경\n",
    "    '''\n",
    "    # 원본 dataframe 변경 방지\n",
    "    geo_df_k_c = geo_df_k.copy()\n",
    "    \n",
    "    center = geo_df_k_c.groupby('labels')[['latitude', 'longitude']].mean().reset_index('labels')[['latitude', 'longitude']]\n",
    "\n",
    "    # 군집이 i가 아닌 포인트 중 가장 가까운 포인트의 군집(labels)을 i로 변경\n",
    "    idx = geo_df_k_c[geo_df_k_c['labels']!=label].index\n",
    "\n",
    "    geo_df_k_c.loc[:, \"distance_other_center\"] = np.NAN\n",
    "    for j in idx:\n",
    "        geo_df_k_c.loc[j, \"distance_other_center\"] = haversine(geo_df_k_c.loc[j, ['latitude', 'longitude']], center.loc[label,['latitude', 'longitude']])\n",
    "\n",
    "    if (geo_df_k_c['labels'].value_counts()[geo_df_k_c.loc[np.argmin(geo_df_k_c['distance_other_center']), 'labels']] != 1):\n",
    "        geo_df_k_c.loc[np.argmin(geo_df_k_c['distance_other_center']), 'labels'] = label\n",
    "        \n",
    "    del geo_df_k_c['distance_other_center']\n",
    "    \n",
    "    return geo_df_k_c"
   ]
  },
  {
   "cell_type": "code",
   "execution_count": 37,
   "metadata": {},
   "outputs": [],
   "source": [
    "# 모든 군집에 대해 point 추가 진행해보고 가장 분산이 작아지는 경우 선택하고 다음 loop 실행\n",
    "def min_var_start_algorithm(geo_df_k, dist_list_start, dist_mat):\n",
    "    '''\n",
    "    Input : df\n",
    "    Return : print - 변경될 떄 마다 cnt, var, return - 최종 df\n",
    "    '''\n",
    "    geo_df_k_c = geo_df_k.copy()\n",
    "\n",
    "    cnt = 0\n",
    "    # print(\"초기 Var : {}\\n\".format(start_var_diff(geo_df_k_c)))\n",
    "\n",
    "    # 기존 군집화, 각 군집 변화시켜보고 var 비교 후 결정\n",
    "    while(True):\n",
    "        var_diff_list = []\n",
    "        var_diff_list.append(start_var_diff(geo_df_k_c, dist_list_start, dist_mat))\n",
    "        print(\"Var : {:.5}\\n\".format(start_var_diff(geo_df_k_c, dist_list_start, dist_mat)))\n",
    "        \n",
    "        k = len(geo_df_k_c['labels'].unique())\n",
    "        for label in range(k):\n",
    "            geo_df_k_1 = near_point_start(geo_df_k_c, label)\n",
    "            var_diff_list.append(start_var_diff(geo_df_k_1, dist_list_start, dist_mat))\n",
    "\n",
    "        if (np.min(var_diff_list) == var_diff_list[0]):\n",
    "            break\n",
    "        else:\n",
    "            geo_df_k_c = near_point_start(geo_df_k_c, np.argmin(var_diff_list)-1)\n",
    "            cnt += 1\n",
    "            print(\"변경 횟수 : {}\".format(cnt))\n",
    "            # print(\"Var : {}\\n\".format(start_var_diff(geo_df_k_c)))\n",
    "            \n",
    "    print(\"총 변경 횟수 : {}\".format(cnt))\n",
    "    print(\"최종 결과 Var : {:.5}\".format(start_var_diff(geo_df_k_c, dist_list_start, dist_mat)))\n",
    "    return geo_df_k_c"
   ]
  },
  {
   "cell_type": "markdown",
   "metadata": {},
   "source": [
    "## Main"
   ]
  },
  {
   "cell_type": "markdown",
   "metadata": {},
   "source": [
    "### Run Time"
   ]
  },
  {
   "cell_type": "code",
   "execution_count": 38,
   "metadata": {},
   "outputs": [],
   "source": [
    "addresses = ['서울시 도봉구 방학로6길 25', \n",
    "           '서울시 도봉구 덕릉로63길 19',\n",
    "           '서울시 도봉구 해등로 133',\n",
    "           '서울시 도봉구 방학로3길 16',\n",
    "           '서울시 도봉구 도봉로133길 42',\n",
    "           '서울시 도봉구 덕릉로59나길 20',\n",
    "           '서울시 도봉구 해등로16가길 32',\n",
    "           '서울시 도봉구 우이천로34길 38',\n",
    "           '서울시 도봉구 노해로 41길 9',\n",
    "           '서울시 도봉구 도봉로 969',\n",
    "           '서울특별시 도봉구 마들로 656']\n",
    "\n",
    "# 출발지 : 도봉산역\n",
    "start = \"서울특별시 도봉구 도봉로 964-40\"\n",
    "start_loc = get_location(start)\n",
    "\n",
    "geo_df, geo_list = geo_df_coding(addresses)\n",
    "\n",
    "# 출발지로부터 각 점까지 거리 & 시간\n",
    "dist_list_start, time_list_start = dist_time_start(start, geo_list)\n",
    "\n",
    "# 각 점 서로 거리 & 시간\n",
    "dist_mat, time_mat = dist_time_mat(geo_df, geo_list)"
   ]
  },
  {
   "cell_type": "markdown",
   "metadata": {},
   "source": [
    "#### K-Means + Algorithm"
   ]
  },
  {
   "cell_type": "code",
   "execution_count": 39,
   "metadata": {},
   "outputs": [],
   "source": [
    "# # K=3 Experiment about run time\n",
    "# time_list_3 = []\n",
    "# for i in range(1000):\n",
    "#     start = timeit.default_timer()\n",
    "\n",
    "#     # print(\"K = 3\")\n",
    "#     geo_df_3 = k_means(geo_df, 3)\n",
    "#     geo_df_3_start = geo_df_3.copy()\n",
    "#     geo_df_3_start = min_var_start_algorithm(geo_df_3_start, dist_list_start, dist_mat)\n",
    "\n",
    "#     stop = timeit.default_timer()\n",
    "    \n",
    "#     time_list_3.append(stop-start)\n",
    "    \n",
    "#     # print('Time: ', stop - start)  \n",
    "# print(np.mean(time_list_3))"
   ]
  },
  {
   "cell_type": "code",
   "execution_count": 40,
   "metadata": {},
   "outputs": [],
   "source": [
    "# # K=4 Experiment about run time\n",
    "# time_list_4 = []\n",
    "# for i in range(1000):\n",
    "#     start = timeit.default_timer()\n",
    "\n",
    "#     # print(\"K = 4\")\n",
    "#     geo_df_4 = k_means(geo_df, 4)\n",
    "#     geo_df_4_start = geo_df_4.copy()\n",
    "#     geo_df_4_start = min_var_start_algorithm(geo_df_4_start, dist_list_start, dist_mat)\n",
    "\n",
    "#     stop = timeit.default_timer()\n",
    "    \n",
    "#     time_list_4.append(stop-start)\n",
    "#     # print('Time: ', stop - start)  \n",
    "# print(np.mean(time_list_4))"
   ]
  },
  {
   "cell_type": "code",
   "execution_count": 41,
   "metadata": {},
   "outputs": [],
   "source": [
    "# # K=5 Experiment about run time\n",
    "# time_list_5 = []\n",
    "# for i in range(1000):\n",
    "#     start = timeit.default_timer()\n",
    "\n",
    "#     # print(\"K = 4\")\n",
    "#     geo_df_5 = k_means(geo_df, 5)\n",
    "#     geo_df_5_start = geo_df_5.copy()\n",
    "#     geo_df_5_start = min_var_start_algorithm(geo_df_5_start, dist_list_start, dist_mat)\n",
    "\n",
    "#     stop = timeit.default_timer()\n",
    "\n",
    "#     time_list_5.append(stop-start)\n",
    "#     # print('Time: ', stop - start)\n",
    "# print(np.mean(time_list_5))"
   ]
  },
  {
   "cell_type": "code",
   "execution_count": 42,
   "metadata": {},
   "outputs": [],
   "source": [
    "# print(np.mean(time_list_3))\n",
    "# print(np.mean(time_list_4))\n",
    "# print(np.mean(time_list_5))"
   ]
  },
  {
   "cell_type": "markdown",
   "metadata": {},
   "source": [
    "#### All cases"
   ]
  },
  {
   "cell_type": "code",
   "execution_count": 43,
   "metadata": {},
   "outputs": [],
   "source": [
    "geo_df_r = geo_df.copy()"
   ]
  },
  {
   "cell_type": "code",
   "execution_count": 44,
   "metadata": {},
   "outputs": [],
   "source": [
    "# 3진수로 바꾸는 함수\n",
    "import string\n",
    "\n",
    "\n",
    "def convert(num, base):\n",
    "    tmp = string.digits+string.ascii_lowercase\n",
    "\n",
    "    q, r = divmod(num, base)\n",
    "    if q == 0:\n",
    "        return tmp[r]\n",
    "    else:\n",
    "        return convert(q, base) + tmp[r]\n",
    "\n",
    "# k=3일 때 Labeling 모든 경우\n",
    "\n",
    "\n",
    "def all_case(k, p):\n",
    "    '''\n",
    "    input : k(# of cluster), p(# of point)\n",
    "    output : 군집배정하는 모든 경우의 수\n",
    "    '''\n",
    "    num_lst = []\n",
    "    for i in range(pow(k, p)):\n",
    "        num_lst.append(convert(i, k).zfill(p))\n",
    "\n",
    "    label_list = []\n",
    "    for i in num_lst:\n",
    "        label_list.append(list(map(int, list(i))))\n",
    "\n",
    "    label_list_pre = []\n",
    "\n",
    "    if (k == 3):\n",
    "        for i in range(len(label_list)):\n",
    "            if (0 in label_list[i] and 1 in label_list[i] and 2 in label_list[i]):\n",
    "                label_list_pre.append(label_list[i])\n",
    "    elif (k == 4):\n",
    "        for i in range(len(label_list)):\n",
    "            if (0 in label_list[i] and 1 in label_list[i] and 2 in label_list[i] and 3 in label_list[i]):\n",
    "                label_list_pre.append(label_list[i])\n",
    "    elif (k == 5):\n",
    "        for i in range(len(label_list)):\n",
    "            if (0 in label_list[i] and 1 in label_list[i] and 2 in label_list[i] and 3 in label_list[i] and 4 in label_list[i]):\n",
    "                label_list_pre.append(label_list[i])\n",
    "\n",
    "    return label_list_pre\n"
   ]
  },
  {
   "cell_type": "code",
   "execution_count": 45,
   "metadata": {},
   "outputs": [],
   "source": [
    "# K=3\n",
    "label_list_3 = all_case(k=3, p=11)"
   ]
  },
  {
   "cell_type": "code",
   "execution_count": 47,
   "metadata": {},
   "outputs": [
    {
     "name": "stdout",
     "output_type": "stream",
     "text": [
      "Var : 1.5895e+07\n",
      "\n"
     ]
    },
    {
     "ename": "KeyError",
     "evalue": "\"None of [Index(['latitude', 'longitude'], dtype='object')] are in the [columns]\"",
     "output_type": "error",
     "traceback": [
      "\u001b[1;31m---------------------------------------------------------------------------\u001b[0m",
      "\u001b[1;31mKeyError\u001b[0m                                  Traceback (most recent call last)",
      "\u001b[1;32mc:\\Users\\User\\Desktop\\NFLUX\\Intern_nflux\\clustering\\clustering_experiment.ipynb Cell 31\u001b[0m in \u001b[0;36m<cell line: 9>\u001b[1;34m()\u001b[0m\n\u001b[0;32m      <a href='vscode-notebook-cell:/c%3A/Users/User/Desktop/NFLUX/Intern_nflux/clustering/clustering_experiment.ipynb#ch0000033?line=5'>6</a>\u001b[0m geo_df_3_all \u001b[39m=\u001b[39m geo_df\u001b[39m.\u001b[39mcopy()\n\u001b[0;32m      <a href='vscode-notebook-cell:/c%3A/Users/User/Desktop/NFLUX/Intern_nflux/clustering/clustering_experiment.ipynb#ch0000033?line=6'>7</a>\u001b[0m geo_df_3_all\u001b[39m.\u001b[39mloc[:,\u001b[39m'\u001b[39m\u001b[39mlabels\u001b[39m\u001b[39m'\u001b[39m] \u001b[39m=\u001b[39m label_list_3[\u001b[39m0\u001b[39m]\n\u001b[1;32m----> <a href='vscode-notebook-cell:/c%3A/Users/User/Desktop/NFLUX/Intern_nflux/clustering/clustering_experiment.ipynb#ch0000033?line=8'>9</a>\u001b[0m geo_df_3_all \u001b[39m=\u001b[39m min_var_start_algorithm(geo_df_3_all, dist_list_start, dist_mat)\n",
      "\u001b[1;32mc:\\Users\\User\\Desktop\\NFLUX\\Intern_nflux\\clustering\\clustering_experiment.ipynb Cell 31\u001b[0m in \u001b[0;36mmin_var_start_algorithm\u001b[1;34m(geo_df_k, dist_list_start, dist_mat)\u001b[0m\n\u001b[0;32m     <a href='vscode-notebook-cell:/c%3A/Users/User/Desktop/NFLUX/Intern_nflux/clustering/clustering_experiment.ipynb#ch0000033?line=17'>18</a>\u001b[0m k \u001b[39m=\u001b[39m \u001b[39mlen\u001b[39m(geo_df_k_c[\u001b[39m'\u001b[39m\u001b[39mlabels\u001b[39m\u001b[39m'\u001b[39m]\u001b[39m.\u001b[39munique())\n\u001b[0;32m     <a href='vscode-notebook-cell:/c%3A/Users/User/Desktop/NFLUX/Intern_nflux/clustering/clustering_experiment.ipynb#ch0000033?line=18'>19</a>\u001b[0m \u001b[39mfor\u001b[39;00m label \u001b[39min\u001b[39;00m \u001b[39mrange\u001b[39m(k):\n\u001b[1;32m---> <a href='vscode-notebook-cell:/c%3A/Users/User/Desktop/NFLUX/Intern_nflux/clustering/clustering_experiment.ipynb#ch0000033?line=19'>20</a>\u001b[0m     geo_df_k_1 \u001b[39m=\u001b[39m near_point_start(geo_df_k_c, label)\n\u001b[0;32m     <a href='vscode-notebook-cell:/c%3A/Users/User/Desktop/NFLUX/Intern_nflux/clustering/clustering_experiment.ipynb#ch0000033?line=20'>21</a>\u001b[0m     var_diff_list\u001b[39m.\u001b[39mappend(start_var_diff(geo_df_k_1, dist_list_start, dist_mat))\n\u001b[0;32m     <a href='vscode-notebook-cell:/c%3A/Users/User/Desktop/NFLUX/Intern_nflux/clustering/clustering_experiment.ipynb#ch0000033?line=22'>23</a>\u001b[0m \u001b[39mif\u001b[39;00m (np\u001b[39m.\u001b[39mmin(var_diff_list) \u001b[39m==\u001b[39m var_diff_list[\u001b[39m0\u001b[39m]):\n",
      "\u001b[1;32mc:\\Users\\User\\Desktop\\NFLUX\\Intern_nflux\\clustering\\clustering_experiment.ipynb Cell 31\u001b[0m in \u001b[0;36mnear_point_start\u001b[1;34m(geo_df_k, label)\u001b[0m\n\u001b[0;32m      <a href='vscode-notebook-cell:/c%3A/Users/User/Desktop/NFLUX/Intern_nflux/clustering/clustering_experiment.ipynb#ch0000033?line=7'>8</a>\u001b[0m \u001b[39m# 원본 dataframe 변경 방지\u001b[39;00m\n\u001b[0;32m      <a href='vscode-notebook-cell:/c%3A/Users/User/Desktop/NFLUX/Intern_nflux/clustering/clustering_experiment.ipynb#ch0000033?line=8'>9</a>\u001b[0m geo_df_k_c \u001b[39m=\u001b[39m geo_df_k\u001b[39m.\u001b[39mcopy()\n\u001b[1;32m---> <a href='vscode-notebook-cell:/c%3A/Users/User/Desktop/NFLUX/Intern_nflux/clustering/clustering_experiment.ipynb#ch0000033?line=10'>11</a>\u001b[0m center \u001b[39m=\u001b[39m geo_df_k_c\u001b[39m.\u001b[39;49mgroupby(\u001b[39m'\u001b[39;49m\u001b[39mlabels\u001b[39;49m\u001b[39m'\u001b[39;49m)[[\u001b[39m'\u001b[39;49m\u001b[39mlatitude\u001b[39;49m\u001b[39m'\u001b[39;49m, \u001b[39m'\u001b[39;49m\u001b[39mlongitude\u001b[39;49m\u001b[39m'\u001b[39;49m]]\u001b[39m.\u001b[39;49mmean()\u001b[39m.\u001b[39;49mreset_index(\u001b[39m'\u001b[39;49m\u001b[39mlabels\u001b[39;49m\u001b[39m'\u001b[39;49m)[[\u001b[39m'\u001b[39;49m\u001b[39mlatitude\u001b[39;49m\u001b[39m'\u001b[39;49m, \u001b[39m'\u001b[39;49m\u001b[39mlongitude\u001b[39;49m\u001b[39m'\u001b[39;49m]]\n\u001b[0;32m     <a href='vscode-notebook-cell:/c%3A/Users/User/Desktop/NFLUX/Intern_nflux/clustering/clustering_experiment.ipynb#ch0000033?line=12'>13</a>\u001b[0m \u001b[39m# 군집이 i가 아닌 포인트 중 가장 가까운 포인트의 군집(labels)을 i로 변경\u001b[39;00m\n\u001b[0;32m     <a href='vscode-notebook-cell:/c%3A/Users/User/Desktop/NFLUX/Intern_nflux/clustering/clustering_experiment.ipynb#ch0000033?line=13'>14</a>\u001b[0m idx \u001b[39m=\u001b[39m geo_df_k_c[geo_df_k_c[\u001b[39m'\u001b[39m\u001b[39mlabels\u001b[39m\u001b[39m'\u001b[39m]\u001b[39m!=\u001b[39mlabel]\u001b[39m.\u001b[39mindex\n",
      "File \u001b[1;32mc:\\Users\\User\\anaconda3\\envs\\inha\\lib\\site-packages\\pandas\\core\\frame.py:3511\u001b[0m, in \u001b[0;36mDataFrame.__getitem__\u001b[1;34m(self, key)\u001b[0m\n\u001b[0;32m   3509\u001b[0m     \u001b[39mif\u001b[39;00m is_iterator(key):\n\u001b[0;32m   3510\u001b[0m         key \u001b[39m=\u001b[39m \u001b[39mlist\u001b[39m(key)\n\u001b[1;32m-> 3511\u001b[0m     indexer \u001b[39m=\u001b[39m \u001b[39mself\u001b[39;49m\u001b[39m.\u001b[39;49mcolumns\u001b[39m.\u001b[39;49m_get_indexer_strict(key, \u001b[39m\"\u001b[39;49m\u001b[39mcolumns\u001b[39;49m\u001b[39m\"\u001b[39;49m)[\u001b[39m1\u001b[39m]\n\u001b[0;32m   3513\u001b[0m \u001b[39m# take() does not accept boolean indexers\u001b[39;00m\n\u001b[0;32m   3514\u001b[0m \u001b[39mif\u001b[39;00m \u001b[39mgetattr\u001b[39m(indexer, \u001b[39m\"\u001b[39m\u001b[39mdtype\u001b[39m\u001b[39m\"\u001b[39m, \u001b[39mNone\u001b[39;00m) \u001b[39m==\u001b[39m \u001b[39mbool\u001b[39m:\n",
      "File \u001b[1;32mc:\\Users\\User\\anaconda3\\envs\\inha\\lib\\site-packages\\pandas\\core\\indexes\\base.py:5782\u001b[0m, in \u001b[0;36mIndex._get_indexer_strict\u001b[1;34m(self, key, axis_name)\u001b[0m\n\u001b[0;32m   5779\u001b[0m \u001b[39melse\u001b[39;00m:\n\u001b[0;32m   5780\u001b[0m     keyarr, indexer, new_indexer \u001b[39m=\u001b[39m \u001b[39mself\u001b[39m\u001b[39m.\u001b[39m_reindex_non_unique(keyarr)\n\u001b[1;32m-> 5782\u001b[0m \u001b[39mself\u001b[39;49m\u001b[39m.\u001b[39;49m_raise_if_missing(keyarr, indexer, axis_name)\n\u001b[0;32m   5784\u001b[0m keyarr \u001b[39m=\u001b[39m \u001b[39mself\u001b[39m\u001b[39m.\u001b[39mtake(indexer)\n\u001b[0;32m   5785\u001b[0m \u001b[39mif\u001b[39;00m \u001b[39misinstance\u001b[39m(key, Index):\n\u001b[0;32m   5786\u001b[0m     \u001b[39m# GH 42790 - Preserve name from an Index\u001b[39;00m\n",
      "File \u001b[1;32mc:\\Users\\User\\anaconda3\\envs\\inha\\lib\\site-packages\\pandas\\core\\indexes\\base.py:5842\u001b[0m, in \u001b[0;36mIndex._raise_if_missing\u001b[1;34m(self, key, indexer, axis_name)\u001b[0m\n\u001b[0;32m   5840\u001b[0m     \u001b[39mif\u001b[39;00m use_interval_msg:\n\u001b[0;32m   5841\u001b[0m         key \u001b[39m=\u001b[39m \u001b[39mlist\u001b[39m(key)\n\u001b[1;32m-> 5842\u001b[0m     \u001b[39mraise\u001b[39;00m \u001b[39mKeyError\u001b[39;00m(\u001b[39mf\u001b[39m\u001b[39m\"\u001b[39m\u001b[39mNone of [\u001b[39m\u001b[39m{\u001b[39;00mkey\u001b[39m}\u001b[39;00m\u001b[39m] are in the [\u001b[39m\u001b[39m{\u001b[39;00maxis_name\u001b[39m}\u001b[39;00m\u001b[39m]\u001b[39m\u001b[39m\"\u001b[39m)\n\u001b[0;32m   5844\u001b[0m not_found \u001b[39m=\u001b[39m \u001b[39mlist\u001b[39m(ensure_index(key)[missing_mask\u001b[39m.\u001b[39mnonzero()[\u001b[39m0\u001b[39m]]\u001b[39m.\u001b[39munique())\n\u001b[0;32m   5845\u001b[0m \u001b[39mraise\u001b[39;00m \u001b[39mKeyError\u001b[39;00m(\u001b[39mf\u001b[39m\u001b[39m\"\u001b[39m\u001b[39m{\u001b[39;00mnot_found\u001b[39m}\u001b[39;00m\u001b[39m not in index\u001b[39m\u001b[39m\"\u001b[39m)\n",
      "\u001b[1;31mKeyError\u001b[0m: \"None of [Index(['latitude', 'longitude'], dtype='object')] are in the [columns]\""
     ]
    }
   ],
   "source": [
    "# K=3 Experiment about every case\n",
    "\n",
    "# start = timeit.default_timer()\n",
    "\n",
    "label_list_3 = all_case(k=3, p=11)\n",
    "geo_df_3_all = geo_df.copy()\n",
    "geo_df_3_all.loc[:,'labels'] = label_list_3[0]\n",
    "\n",
    "geo_df_3_all = min_var_start_algorithm(geo_df_3_all, dist_list_start, dist_mat)\n",
    "\n",
    "# stop = timeit.default_timer()\n",
    "\n",
    "# time_list_3.append(stop-start)\n",
    "\n",
    "# print('Time: ', stop - start)  \n"
   ]
  },
  {
   "cell_type": "code",
   "execution_count": 48,
   "metadata": {},
   "outputs": [
    {
     "data": {
      "text/html": [
       "<div>\n",
       "<style scoped>\n",
       "    .dataframe tbody tr th:only-of-type {\n",
       "        vertical-align: middle;\n",
       "    }\n",
       "\n",
       "    .dataframe tbody tr th {\n",
       "        vertical-align: top;\n",
       "    }\n",
       "\n",
       "    .dataframe thead th {\n",
       "        text-align: right;\n",
       "    }\n",
       "</style>\n",
       "<table border=\"1\" class=\"dataframe\">\n",
       "  <thead>\n",
       "    <tr style=\"text-align: right;\">\n",
       "      <th></th>\n",
       "      <th>latitude</th>\n",
       "      <th>longitude</th>\n",
       "      <th>labels</th>\n",
       "    </tr>\n",
       "  </thead>\n",
       "  <tbody>\n",
       "    <tr>\n",
       "      <th>0</th>\n",
       "      <td>37.6639837</td>\n",
       "      <td>127.0368261</td>\n",
       "      <td>0</td>\n",
       "    </tr>\n",
       "    <tr>\n",
       "      <th>1</th>\n",
       "      <td>37.6422410</td>\n",
       "      <td>127.0403476</td>\n",
       "      <td>0</td>\n",
       "    </tr>\n",
       "    <tr>\n",
       "      <th>2</th>\n",
       "      <td>37.6553758</td>\n",
       "      <td>127.0404319</td>\n",
       "      <td>0</td>\n",
       "    </tr>\n",
       "    <tr>\n",
       "      <th>3</th>\n",
       "      <td>37.6620250</td>\n",
       "      <td>127.0407800</td>\n",
       "      <td>0</td>\n",
       "    </tr>\n",
       "    <tr>\n",
       "      <th>4</th>\n",
       "      <td>37.6580162</td>\n",
       "      <td>127.0373848</td>\n",
       "      <td>0</td>\n",
       "    </tr>\n",
       "    <tr>\n",
       "      <th>5</th>\n",
       "      <td>37.6410977</td>\n",
       "      <td>127.0395668</td>\n",
       "      <td>0</td>\n",
       "    </tr>\n",
       "    <tr>\n",
       "      <th>6</th>\n",
       "      <td>37.6544567</td>\n",
       "      <td>127.0414078</td>\n",
       "      <td>0</td>\n",
       "    </tr>\n",
       "    <tr>\n",
       "      <th>7</th>\n",
       "      <td>37.6503727</td>\n",
       "      <td>127.0243343</td>\n",
       "      <td>0</td>\n",
       "    </tr>\n",
       "    <tr>\n",
       "      <th>8</th>\n",
       "      <td>37.6492509</td>\n",
       "      <td>127.0267038</td>\n",
       "      <td>0</td>\n",
       "    </tr>\n",
       "    <tr>\n",
       "      <th>9</th>\n",
       "      <td>37.6910856</td>\n",
       "      <td>127.0437342</td>\n",
       "      <td>1</td>\n",
       "    </tr>\n",
       "    <tr>\n",
       "      <th>10</th>\n",
       "      <td>37.6687680</td>\n",
       "      <td>127.0471630</td>\n",
       "      <td>2</td>\n",
       "    </tr>\n",
       "  </tbody>\n",
       "</table>\n",
       "</div>"
      ],
      "text/plain": [
       "      latitude    longitude  labels\n",
       "0   37.6639837  127.0368261       0\n",
       "1   37.6422410  127.0403476       0\n",
       "2   37.6553758  127.0404319       0\n",
       "3   37.6620250  127.0407800       0\n",
       "4   37.6580162  127.0373848       0\n",
       "5   37.6410977  127.0395668       0\n",
       "6   37.6544567  127.0414078       0\n",
       "7   37.6503727  127.0243343       0\n",
       "8   37.6492509  127.0267038       0\n",
       "9   37.6910856  127.0437342       1\n",
       "10  37.6687680  127.0471630       2"
      ]
     },
     "execution_count": 48,
     "metadata": {},
     "output_type": "execute_result"
    }
   ],
   "source": [
    "geo_df_3_all"
   ]
  },
  {
   "cell_type": "code",
   "execution_count": null,
   "metadata": {},
   "outputs": [],
   "source": []
  }
 ],
 "metadata": {
  "kernelspec": {
   "display_name": "Python 3.9.12",
   "language": "python",
   "name": "python3"
  },
  "language_info": {
   "codemirror_mode": {
    "name": "ipython",
    "version": 3
   },
   "file_extension": ".py",
   "mimetype": "text/x-python",
   "name": "python",
   "nbconvert_exporter": "python",
   "pygments_lexer": "ipython3",
   "version": "3.10.4"
  },
  "orig_nbformat": 4,
  "vscode": {
   "interpreter": {
    "hash": "69992081f1adf84c247ca792f4c459ccf807db71fb713b5b7f7e0e76b1130414"
   }
  }
 },
 "nbformat": 4,
 "nbformat_minor": 2
}
