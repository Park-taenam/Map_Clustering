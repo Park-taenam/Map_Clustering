{
 "cells": [
  {
   "cell_type": "code",
   "execution_count": 2,
   "metadata": {},
   "outputs": [],
   "source": [
    "import os\n",
    "import numpy as np\n",
    "import pandas as pd\n",
    "import matplotlib.pyplot as plt\n",
    "from haversine import haversine\n",
    "from geopy.geocoders import Nominatim\n",
    "from sklearn.cluster import KMeans\n",
    "import scipy.stats as stats\n",
    "import folium\n",
    "import itertools\n",
    "import statistics\n",
    "import string\n",
    "\n",
    "import warnings\n",
    "warnings.filterwarnings(\"ignore\")"
   ]
  },
  {
   "cell_type": "markdown",
   "metadata": {},
   "source": [
    "# Naver Map API"
   ]
  },
  {
   "cell_type": "code",
   "execution_count": 3,
   "metadata": {},
   "outputs": [],
   "source": [
    "# *-- Geocoding 활용 코드 --*\n",
    "import json\n",
    "import urllib\n",
    "from urllib.request import Request, urlopen"
   ]
  },
  {
   "cell_type": "code",
   "execution_count": 4,
   "metadata": {},
   "outputs": [],
   "source": [
    "# 주소에 geocoding 적용하는 함수를 작성.\n",
    "def get_location(loc) :\n",
    "    # 내 고유값임 (공개안되도록)\n",
    "    client_id = 'wi1vd6qb31'\n",
    "    client_secret = 'NWOOthvHMkC11OEqF93vhqXPzsTellMMEq08gtf4'\n",
    "\n",
    "    url = f\"https://naveropenapi.apigw.ntruss.com/map-geocode/v2/geocode?query=\" \\\n",
    "    \t\t\t+ urllib.parse.quote(loc)\n",
    "    \n",
    "    # 주소 변환\n",
    "    request = urllib.request.Request(url)\n",
    "    request.add_header('X-NCP-APIGW-API-KEY-ID', client_id)\n",
    "    request.add_header('X-NCP-APIGW-API-KEY', client_secret)\n",
    "    \n",
    "    response = urlopen(request)\n",
    "    res = response.getcode()\n",
    "    \n",
    "    if (res == 200) : # 응답이 정상적으로 완료되면 200을 return\n",
    "        response_body = response.read().decode('utf-8')\n",
    "        response_body = json.loads(response_body)\n",
    "        # print(response_body)\n",
    "        \n",
    "        # 주소가 존재할 경우 total count == 1이 반환됨.\n",
    "        if response_body['meta']['totalCount'] == 1 : \n",
    "        \t# 위도, 경도 좌표를 받아와서 return해 줌.\n",
    "            lat = response_body['addresses'][0]['y']\n",
    "            lon = response_body['addresses'][0]['x']\n",
    "            return (lon, lat)\n",
    "        else :\n",
    "            print('location not exist')\n",
    "        \n",
    "    else :\n",
    "        print('ERROR')"
   ]
  },
  {
   "cell_type": "code",
   "execution_count": 5,
   "metadata": {},
   "outputs": [],
   "source": [
    "# *-- Directions 5 활용 코드 --*\n",
    "\n",
    "# option : 탐색옵션 [최대 3개, traoptimal(기본 옵션)]\n",
    "# trafast 실시간 빠른길\n",
    "# tracomfort 실시간 편한길\n",
    "# traoptimal 실시간 최적\n",
    "# traavoidtoll 무료 우선\n",
    "# traavoidcaronly 자동차 전용도로 회피 우선\n",
    "option = 'traoptimal'\n",
    "\n",
    "def get_optimal_route(start, goal, option=option ) :\n",
    "\n",
    "    # 내 고유값임 (공개안되도록)\n",
    "    client_id = 'wi1vd6qb31'\n",
    "    client_secret = 'NWOOthvHMkC11OEqF93vhqXPzsTellMMEq08gtf4'\n",
    "\n",
    "    # start=/goal=/(waypoint=)/(option=) 순으로 request parameter 지정\n",
    "    url = f\"https://naveropenapi.apigw.ntruss.com/map-direction-15/v1/driving?start={start[0]},{start[1]}&goal={goal[0]},{goal[1]}&option={option}\"\n",
    "    request = urllib.request.Request(url)\n",
    "    request.add_header('X-NCP-APIGW-API-KEY-ID', client_id)\n",
    "    request.add_header('X-NCP-APIGW-API-KEY', client_secret)\n",
    "    \n",
    "    response = urllib.request.urlopen(request)\n",
    "    res = response.getcode()\n",
    "    \n",
    "    if (res == 200) :\n",
    "        response_body = response.read().decode('utf-8')\n",
    "        return json.loads(response_body)\n",
    "            \n",
    "    else :\n",
    "        print('ERROR')"
   ]
  },
  {
   "cell_type": "code",
   "execution_count": 6,
   "metadata": {},
   "outputs": [],
   "source": [
    "# 주소에서 위도, 경도 뽑고 dataframe 만드는 함수\n",
    "def geo_df_coding(addresses):\n",
    "    geo_list = []\n",
    "    for address in addresses:\n",
    "        geo_list.append(get_location(address))\n",
    "        \n",
    "    geo_df = pd.DataFrame(geo_list)\n",
    "    geo_df.columns = ['longitude', 'latitude']\n",
    "    geo_df = geo_df[['latitude', 'longitude']]\n",
    "    \n",
    "    return geo_df, geo_list"
   ]
  },
  {
   "cell_type": "code",
   "execution_count": 7,
   "metadata": {},
   "outputs": [],
   "source": [
    "# 도로상 거리, 시간 계산해주는 함수\n",
    "def dist_time_mat(geo_df, geo_list):\n",
    "    dist_mat = np.zeros((geo_df.shape[0], geo_df.shape[0]))\n",
    "    time_mat = np.zeros((geo_df.shape[0], geo_df.shape[0]))\n",
    "\n",
    "    option = 'traoptimal'\n",
    "    for i in range(geo_df.shape[0]):\n",
    "        for j in range(geo_df.shape[0]):\n",
    "            if (i==j):\n",
    "                dist_mat[i][j] = 0\n",
    "                time_mat[i][j] = 0\n",
    "            else:\n",
    "                results = get_optimal_route(start = geo_list[i], goal = geo_list[j], option=option)\n",
    "\n",
    "                dist_mat[i][j] = results['route']['traoptimal'][0]['summary'][\"distance\"]\n",
    "                time_mat[i][j] = results['route']['traoptimal'][0]['summary'][\"duration\"]\n",
    "                \n",
    "    return dist_mat, time_mat"
   ]
  },
  {
   "cell_type": "code",
   "execution_count": 8,
   "metadata": {},
   "outputs": [],
   "source": [
    "# 출발지로부터 각 점에 대한 거리, 시간 계산\n",
    "def dist_time_start(start, geo_list):\n",
    "    start_loc = get_location(start)\n",
    "    \n",
    "    dist_list = []\n",
    "    time_list = []\n",
    "\n",
    "    option = 'traoptimal'\n",
    "\n",
    "    for i in range(len(geo_list)):\n",
    "        results = get_optimal_route(start = start_loc, goal = geo_list[i], option=option)\n",
    "\n",
    "        dist_list.append(results['route']['traoptimal'][0]['summary'][\"distance\"])\n",
    "        time_list.append(results['route']['traoptimal'][0]['summary'][\"duration\"])\n",
    "    \n",
    "    return dist_list, time_list"
   ]
  },
  {
   "cell_type": "markdown",
   "metadata": {},
   "source": [
    "# Algorithm"
   ]
  },
  {
   "cell_type": "code",
   "execution_count": 9,
   "metadata": {},
   "outputs": [],
   "source": [
    "# k-means 적용\n",
    "def k_means(geo_df, k):\n",
    "    geo_df_k = geo_df.copy()\n",
    "        \n",
    "    geo_df_k = geo_df_k.astype('float')\n",
    "    \n",
    "    model = KMeans(n_clusters=k, init='k-means++')\n",
    "    model.fit(geo_df)\n",
    "    labels = model.predict(geo_df.values)\n",
    "    geo_df_k['labels'] = labels\n",
    "    \n",
    "    return geo_df_k"
   ]
  },
  {
   "cell_type": "code",
   "execution_count": 10,
   "metadata": {},
   "outputs": [],
   "source": [
    "# 각 그룹에서 출발점으로부터 모든 정점을 거쳤을 때 최단거리 산출하는 함수\n",
    "# 1. 모든 정점 순서 경우 고려 (permutation)\n",
    "# 2. 그 순서의 거리의 합을 따져서 최단거리 산출\n",
    "def min_dist_start(geo_df_k, label, dist_list_start, dist_mat):\n",
    "    '''\n",
    "    Input : df, label(군집), dist_list_start(시작-점 거리), dist_mat(점-점 거리)\n",
    "    Return : 출발점으로부터 군집의 모든 정점을 거쳤을 때 최단거리\n",
    "    '''\n",
    "    \n",
    "    # 모든 point 순서 고려 (permutation)\n",
    "    permutations = list(itertools.permutations(geo_df_k[geo_df_k['labels']==label].index, sum(geo_df_k['labels']==label)))\n",
    "    \n",
    "    # 모든 경우 거리 합 계산 후 최소값 산출\n",
    "    dist_sum_lst = []\n",
    "    for i in range(len(permutations)):\n",
    "        # 출발점(도봉구청)과 첫번째 점의 거리 초기화\n",
    "        dist_sum =  dist_list_start[permutations[i][0]]\n",
    "        # 순서대로 합 더해줌\n",
    "        for j in range(len(permutations[0])-1):\n",
    "            dist_sum += dist_mat[permutations[i][j], permutations[i][j+1]]\n",
    "        dist_sum_lst.append(dist_sum)\n",
    "\n",
    "    # 가장 작은 값 -> 최단거리\n",
    "    return min(dist_sum_lst)"
   ]
  },
  {
   "cell_type": "code",
   "execution_count": 11,
   "metadata": {},
   "outputs": [],
   "source": [
    "# 각 그룹에서 출발점으로부터 모든 정점을 거쳤을 때 최단거리인 경우 들린 순서 산출하는 함수\n",
    "# 1. 모든 정점 순서 경우 고려 (permutation)\n",
    "# 2. 그 순서의 거리의 합을 따져서 최단거리 산출\n",
    "def min_dist_start_order(geo_df_k, label, dist_list_start, dist_mat):\n",
    "    '''\n",
    "    Input : df, label(군집), dist_list_start(시작-점 거리), dist_mat(점-점 거리)\n",
    "    Return : 출발점으로부터 군집의 모든 정점을 거쳤을 때 최단거리인 경우 들린 순서\n",
    "    '''\n",
    "\n",
    "    # 모든 point 순서 고려 (permutation)\n",
    "    permutations = list(itertools.permutations(geo_df_k[geo_df_k['labels']==label].index, sum(geo_df_k['labels']==label)))\n",
    "    \n",
    "    # 모든 경우 거리 합 계산 후 최소값 산출\n",
    "    dist_sum_lst = []\n",
    "    for i in range(len(permutations)):\n",
    "        # 출발점(도봉구청)과 첫번째 점의 거리 초기화\n",
    "        dist_sum =  dist_list_start[permutations[i][0]]\n",
    "        # 순서대로 합 더해줌\n",
    "        for j in range(len(permutations[0])-1):\n",
    "            dist_sum += dist_mat[permutations[i][j], permutations[i][j+1]]\n",
    "        dist_sum_lst.append(dist_sum)\n",
    "\n",
    "    # 가장 작은 값 -> 최단거리순서\n",
    "    return permutations[np.argmin(dist_sum_lst)]"
   ]
  },
  {
   "cell_type": "code",
   "execution_count": 12,
   "metadata": {},
   "outputs": [],
   "source": [
    "# 각 군집의 출발점으로부터 최단거리끼리 차이의 분산\n",
    "def start_var_diff(geo_df_k, dist_list_start, dist_mat):\n",
    "    '''\n",
    "    Input : df, dist_list_start(시작-점 거리), dist_mat(점-점 거리)\n",
    "    Return : 각 군집의 출발점으로부터 최단거리 모든 조합 차이의 분산\n",
    "    '''\n",
    "    min_distance = []\n",
    "    for i in geo_df_k['labels'].unique():\n",
    "        min_distance.append(min_dist_start(geo_df_k, i, dist_list_start, dist_mat))\n",
    "\n",
    "    # k combination 2 : 2개씩 차이의 분산\n",
    "    combinations = list(itertools.combinations(geo_df_k['labels'].unique(), 2))\n",
    "    \n",
    "    diff_list = []\n",
    "    for i, j in combinations:\n",
    "        diff = np.abs(min_distance[i] - min_distance[j])\n",
    "        diff_list.append(float(diff))\n",
    "\n",
    "    return statistics.variance(diff_list)"
   ]
  },
  {
   "cell_type": "code",
   "execution_count": 13,
   "metadata": {},
   "outputs": [],
   "source": [
    "# 다른 군집 point 중 해당 군집에 가장 가까운 point를 해당 군집으로 포함시키는 함수\n",
    "# 중심점에서 가장 가까운 point 해당 군집으로 포함시킴\n",
    "def near_point_start(geo_df_k, label):\n",
    "    '''\n",
    "    Input : df, 변경할 군집\n",
    "    Return : 군집의 중심에서 다른 군집 point 중 가장 가까운 point 해당 군집으로 변경\n",
    "    '''\n",
    "    # 원본 dataframe 변경 방지\n",
    "    geo_df_k_c = geo_df_k.copy()\n",
    "    \n",
    "    center = geo_df_k_c.groupby('labels')[['latitude', 'longitude']].mean().reset_index('labels')[['latitude', 'longitude']]\n",
    "\n",
    "    # 군집이 i가 아닌 포인트 중 가장 가까운 포인트의 군집(labels)을 i로 변경\n",
    "    idx = geo_df_k_c[geo_df_k_c['labels']!=label].index\n",
    "\n",
    "    geo_df_k_c.loc[:, \"distance_other_center\"] = np.NAN\n",
    "    for j in idx:\n",
    "        geo_df_k_c.loc[j, \"distance_other_center\"] = haversine(geo_df_k_c.loc[j, ['latitude', 'longitude']], center.loc[label,['latitude', 'longitude']])\n",
    "\n",
    "    geo_df_k_c.loc[np.argmin(geo_df_k_c['distance_other_center']), 'labels'] = label\n",
    "    del geo_df_k_c['distance_other_center']\n",
    "    \n",
    "    return geo_df_k_c"
   ]
  },
  {
   "cell_type": "code",
   "execution_count": 14,
   "metadata": {},
   "outputs": [],
   "source": [
    "# 모든 군집에 대해 point 추가 진행해보고 가장 분산이 작아지는 경우 선택하고 다음 loop 실행\n",
    "def min_var_start_algorithm(geo_df_k, dist_list_start, dist_mat):\n",
    "    '''\n",
    "    Input : df\n",
    "    Return : print - 변경될 떄 마다 cnt, var, return - 최종 df\n",
    "    '''\n",
    "    geo_df_k_c = geo_df_k.copy()\n",
    "\n",
    "    cnt = 0\n",
    "    # print(\"초기 Var : {}\\n\".format(start_var_diff(geo_df_k_c)))\n",
    "\n",
    "    # 기존 군집화, 각 군집 변화시켜보고 var 비교 후 결정\n",
    "    while(True):\n",
    "        var_diff_list = []\n",
    "        var_diff_list.append(start_var_diff(geo_df_k_c, dist_list_start, dist_mat))\n",
    "        print(\"Var : {:.5}\\n\".format(start_var_diff(geo_df_k_c, dist_list_start, dist_mat)))\n",
    "        \n",
    "        k = len(geo_df_k_c['labels'].unique())\n",
    "        for label in range(k):\n",
    "            geo_df_k_1 = near_point_start(geo_df_k_c, label)\n",
    "            var_diff_list.append(start_var_diff(geo_df_k_1, dist_list_start, dist_mat))\n",
    "\n",
    "        if (np.min(var_diff_list) == var_diff_list[0]):\n",
    "            break\n",
    "        else:\n",
    "            geo_df_k_c = near_point_start(geo_df_k_c, np.argmin(var_diff_list)-1)\n",
    "            cnt += 1\n",
    "            print(\"변경 횟수 : {}\".format(cnt))\n",
    "            # print(\"Var : {}\\n\".format(start_var_diff(geo_df_k_c)))\n",
    "            \n",
    "    print(\"총 변경 횟수 : {}\".format(cnt))\n",
    "    print(\"최종 결과 Var : {:.5}\".format(start_var_diff(geo_df_k_c, dist_list_start, dist_mat)))\n",
    "    return geo_df_k_c"
   ]
  },
  {
   "cell_type": "markdown",
   "metadata": {},
   "source": [
    "# Main"
   ]
  },
  {
   "cell_type": "code",
   "execution_count": 15,
   "metadata": {},
   "outputs": [],
   "source": [
    "addresses = ['서울시 도봉구 방학로6길 25', \n",
    "           '서울시 도봉구 덕릉로63길 19',\n",
    "           '서울시 도봉구 해등로 133',\n",
    "           '서울시 도봉구 방학로3길 16',\n",
    "           '서울시 도봉구 도봉로133길 42',\n",
    "           '서울시 도봉구 덕릉로59나길 20',\n",
    "           '서울시 도봉구 해등로16가길 32',\n",
    "           '서울시 도봉구 우이천로34길 38',\n",
    "           '서울시 도봉구 노해로 41길 9',\n",
    "           '서울시 도봉구 도봉로 969',\n",
    "           '서울특별시 도봉구 마들로 656']\n",
    "\n",
    "# 출발지 : 도봉산역\n",
    "start = \"서울특별시 도봉구 도봉로 964-40\"\n",
    "start_loc = get_location(start)\n",
    "\n",
    "geo_df, geo_list = geo_df_coding(addresses)\n",
    "\n",
    "# 출발지로부터 각 점까지 거리 & 시간\n",
    "dist_list_start, time_list_start = dist_time_start(start, geo_list)\n",
    "\n",
    "# 각 점 서로 거리 & 시간\n",
    "dist_mat, time_mat = dist_time_mat(geo_df, geo_list)"
   ]
  },
  {
   "cell_type": "code",
   "execution_count": 16,
   "metadata": {},
   "outputs": [],
   "source": [
    "# k_means clustering 적용\n",
    "geo_df_2 = k_means(geo_df, 2)\n",
    "geo_df_3 = k_means(geo_df, 3)\n",
    "geo_df_4 = k_means(geo_df, 4)\n",
    "geo_df_5 = k_means(geo_df, 5)\n",
    "\n",
    "geo_df_3_start = geo_df_3.copy()\n",
    "geo_df_4_start = geo_df_4.copy()"
   ]
  },
  {
   "cell_type": "code",
   "execution_count": 17,
   "metadata": {},
   "outputs": [
    {
     "name": "stdout",
     "output_type": "stream",
     "text": [
      "k=3일 때 클러스터 0의 최단거리 : 7232.0m\n",
      "k=3일 때 클러스터 1의 최단거리 : 8294.0m\n",
      "k=3일 때 클러스터 2의 최단거리 : 1077m\n"
     ]
    }
   ],
   "source": [
    "# 각 군집마다 최단거리 산출\n",
    "print(\"k=3일 때 클러스터 0의 최단거리 : {}m\".format(min_dist_start(geo_df_3_start, 0, dist_list_start, dist_mat)))\n",
    "print(\"k=3일 때 클러스터 1의 최단거리 : {}m\".format(min_dist_start(geo_df_3_start, 1, dist_list_start, dist_mat)))\n",
    "print(\"k=3일 때 클러스터 2의 최단거리 : {}m\".format(min_dist_start(geo_df_3_start, 2, dist_list_start, dist_mat)))"
   ]
  },
  {
   "cell_type": "code",
   "execution_count": 18,
   "metadata": {},
   "outputs": [
    {
     "name": "stdout",
     "output_type": "stream",
     "text": [
      "k=3일 때 클러스터 0의 최단거리 방문 순서 : (10, 0, 3, 4, 2, 6)\n",
      "k=3일 때 클러스터 1의 최단거리 방문 순서 : (8, 7, 5, 1)\n",
      "k=3일 때 클러스터 2의 최단거리 방문 순서 : (9,)\n"
     ]
    }
   ],
   "source": [
    "# 각 군집마다 최단거리일 때 방문 순서\n",
    "print(\"k=3일 때 클러스터 0의 최단거리 방문 순서 : {}\".format(min_dist_start_order(geo_df_3_start, 0, dist_list_start, dist_mat)))\n",
    "print(\"k=3일 때 클러스터 1의 최단거리 방문 순서 : {}\".format(min_dist_start_order(geo_df_3_start, 1, dist_list_start, dist_mat)))\n",
    "print(\"k=3일 때 클러스터 2의 최단거리 방문 순서 : {}\".format(min_dist_start_order(geo_df_3_start, 2, dist_list_start, dist_mat)))"
   ]
  },
  {
   "cell_type": "code",
   "execution_count": 19,
   "metadata": {},
   "outputs": [
    {
     "name": "stdout",
     "output_type": "stream",
     "text": [
      "K = 3\n",
      "Var : 1.0825e+07\n",
      "\n",
      "변경 횟수 : 1\n",
      "Var : 1.6227e+06\n",
      "\n",
      "변경 횟수 : 2\n",
      "Var : 1.1392e+06\n",
      "\n",
      "변경 횟수 : 3\n",
      "Var : 1.0573e+06\n",
      "\n",
      "총 변경 횟수 : 3\n",
      "최종 결과 Var : 1.0573e+06\n"
     ]
    }
   ],
   "source": [
    "# check2 1번 뜨는 데 7분 넘게 걸림, 총 10분 35초 걸림\n",
    "print(\"K = 3\")\n",
    "geo_df_3_start = min_var_start_algorithm(geo_df_3_start, dist_list_start, dist_mat)"
   ]
  },
  {
   "cell_type": "code",
   "execution_count": 20,
   "metadata": {},
   "outputs": [
    {
     "name": "stdout",
     "output_type": "stream",
     "text": [
      "K = 4\n",
      "Var : 5.7541e+06\n",
      "\n",
      "변경 횟수 : 1\n",
      "Var : 6.5479e+05\n",
      "\n",
      "변경 횟수 : 2\n",
      "Var : 1.7958e+05\n",
      "\n",
      "총 변경 횟수 : 2\n",
      "최종 결과 Var : 1.7958e+05\n"
     ]
    }
   ],
   "source": [
    "print(\"K = 4\")\n",
    "geo_df_4_start = min_var_start_algorithm(geo_df_4_start, dist_list_start, dist_mat)"
   ]
  },
  {
   "cell_type": "markdown",
   "metadata": {},
   "source": [
    "# Visualization"
   ]
  },
  {
   "cell_type": "code",
   "execution_count": 21,
   "metadata": {},
   "outputs": [
    {
     "data": {
      "text/plain": [
       "<zip at 0x1acca8d1c40>"
      ]
     },
     "execution_count": 21,
     "metadata": {},
     "output_type": "execute_result"
    }
   ],
   "source": [
    "zip(geo_df_3_start['latitude'], geo_df_3_start['longitude'])\n",
    "# locations = list(zip(geo_df_3_start['latitude'], geo_df_3_start['longitude']))\n",
    "# locations"
   ]
  },
  {
   "cell_type": "code",
   "execution_count": 22,
   "metadata": {},
   "outputs": [
    {
     "data": {
      "text/plain": [
       "('127.0465288', '37.6891205')"
      ]
     },
     "execution_count": 22,
     "metadata": {},
     "output_type": "execute_result"
    }
   ],
   "source": [
    "start_loc"
   ]
  },
  {
   "cell_type": "code",
   "execution_count": 1,
   "metadata": {},
   "outputs": [],
   "source": [
    "def visual_start_line(geo_df_k_start, start_loc):\n",
    "\n",
    "    labels = geo_df_k_start['labels']\n",
    "    m = folium.Map(location = [start_loc[1], start_loc[0]], zoom_start=14)\n",
    "\n",
    "    # 각 위치 분류별로 색 다르게\n",
    "    for i in range(geo_df_k_start.shape[0]):\n",
    "        if (labels[i] == 0):\n",
    "            folium.Marker([geo_df_k_start.loc[i, 'latitude'], geo_df_k_start.loc[i, 'longitude']], icon=folium.Icon(color = 'blue')).add_to(m)\n",
    "        elif (labels[i] == 1):\n",
    "            folium.Marker([geo_df_k_start.loc[i, 'latitude'], geo_df_k_start.loc[i, 'longitude']], icon=folium.Icon(color = 'red')).add_to(m)\n",
    "        elif (labels[i] == 2):\n",
    "            folium.Marker([geo_df_k_start.loc[i, 'latitude'], geo_df_k_start.loc[i, 'longitude']], icon=folium.Icon(color = 'green')).add_to(m)\n",
    "        elif (labels[i] == 3):\n",
    "            folium.Marker([geo_df_k_start.loc[i, 'latitude'], geo_df_k_start.loc[i, 'longitude']], icon=folium.Icon(color = 'purple')).add_to(m)\n",
    "        else:\n",
    "            folium.Marker([geo_df_k_start.loc[i, 'latitude'], geo_df_k_start.loc[i, 'longitude']], icon=folium.Icon(color = 'black')).add_to(m)\n",
    "\n",
    "    # 중심 위치\n",
    "    folium.CircleMarker(location=[start_loc[1], start_loc[0]],\n",
    "                            radius=5,\n",
    "                            color='red',\n",
    "                            fill_color='red',\n",
    "                            draggable = False).add_to(m)\n",
    "\n",
    "    # 경로 표시\n",
    "    colors = ['blue', 'red', 'green', 'purple']\n",
    "    for i in np.unique(labels):\n",
    "        orders = min_dist_start_order(geo_df_k_start, i, dist_list_start, dist_mat)\n",
    "        location = []\n",
    "        for order in orders:\n",
    "            location.append([geo_df_k_start.loc[order, 'latitude'], geo_df_k_start.loc[order, 'longitude']])\n",
    "        location.insert(0, [start_loc[1], start_loc[0]])\n",
    "\n",
    "        folium.PolyLine(locations = location, tooltip = 'Polyline', color = colors[i]).add_to(m)\n",
    "    return m"
   ]
  },
  {
   "cell_type": "code",
   "execution_count": null,
   "metadata": {},
   "outputs": [
    {
     "ename": "",
     "evalue": "",
     "output_type": "error",
     "traceback": [
      "\u001b[1;31mCanceled future for execute_request message before replies were done"
     ]
    },
    {
     "ename": "",
     "evalue": "",
     "output_type": "error",
     "traceback": [
      "\u001b[1;31mThe Kernel crashed while executing code in the the current cell or a previous cell. Please review the code in the cell(s) to identify a possible cause of the failure. Click <a href='https://aka.ms/vscodeJupyterKernelCrash'>here</a> for more info. View Jupyter <a href='command:jupyter.viewOutput'>log</a> for further details."
     ]
    }
   ],
   "source": [
    "# # k=3 일 때 출발점으로부터 최단거리로 방문하는 경로 시각화\n",
    "visual_start_line(geo_df_3_start, start_loc)"
   ]
  },
  {
   "cell_type": "code",
   "execution_count": null,
   "metadata": {},
   "outputs": [],
   "source": []
  }
 ],
 "metadata": {
  "kernelspec": {
   "display_name": "Python 3.9.12",
   "language": "python",
   "name": "python3"
  },
  "language_info": {
   "codemirror_mode": {
    "name": "ipython",
    "version": 3
   },
   "file_extension": ".py",
   "mimetype": "text/x-python",
   "name": "python",
   "nbconvert_exporter": "python",
   "pygments_lexer": "ipython3",
   "version": "3.9.12"
  },
  "orig_nbformat": 4,
  "vscode": {
   "interpreter": {
    "hash": "69992081f1adf84c247ca792f4c459ccf807db71fb713b5b7f7e0e76b1130414"
   }
  }
 },
 "nbformat": 4,
 "nbformat_minor": 2
}
