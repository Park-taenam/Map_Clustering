{
 "cells": [
  {
   "cell_type": "code",
   "execution_count": 2,
   "metadata": {},
   "outputs": [],
   "source": [
    "import os\n",
    "import numpy as np\n",
    "import pandas as pd\n",
    "import matplotlib.pyplot as plt\n",
    "from haversine import haversine\n",
    "from geopy.geocoders import Nominatim\n",
    "from sklearn.cluster import KMeans\n",
    "import scipy.stats as stats\n",
    "import folium\n",
    "import itertools\n",
    "import statistics\n",
    "import string\n",
    "\n",
    "import warnings\n",
    "warnings.filterwarnings(\"ignore\")"
   ]
  },
  {
   "cell_type": "code",
   "execution_count": 8,
   "metadata": {},
   "outputs": [],
   "source": [
    "addresses = ['서울시 도봉구 방학로6길 25', \n",
    "           '서울시 도봉구 덕릉로63길 19',\n",
    "           '서울시 도봉구 해등로 133',\n",
    "           '서울시 도봉구 방학로3길 16',\n",
    "           '서울시 도봉구 도봉로133길 42',\n",
    "           '서울시 도봉구 덕릉로59나길 20',\n",
    "           '서울시 도봉구 해등로16가길 32',\n",
    "           '서울시 도봉구 우이천로34길 38',\n",
    "           '서울시 도봉구 노해로 41길 9',\n",
    "           '서울시 도봉구 도봉로 969',\n",
    "           '서울시 도봉구 방학1동 마들로 656']\n",
    "\n",
    "# 주소에 해당하는 위도, 경도를 return해주는 함수\n",
    "def geocoding(address):\n",
    "    '''\n",
    "    input : 주소\n",
    "    output : \n",
    "    '''\n",
    "    geolocoder = Nominatim(user_agent = 'South Korea', timeout=None)\n",
    "    geo = geolocoder.geocode(address)\n",
    "    crd = (float(geo.latitude), float(geo.longitude))\n",
    "\n",
    "    return crd\n",
    "\n",
    "def geo_df_coding(addresses):\n",
    "    geo_list = []\n",
    "    for address in addresses:\n",
    "        crd = geocoding(address)\n",
    "        geo_list.append(crd)\n",
    "    geo_df = pd.DataFrame(geo_list)\n",
    "    geo_df.columns = ['latitude', 'longitude']\n",
    "    \n",
    "    for i in range(geo_df.shape[0]):\n",
    "        geo_df.loc[i,'name'] = string.ascii_lowercase[i]\n",
    "        \n",
    "    geo_df = geo_df[['name','latitude','longitude']]\n",
    "    \n",
    "    return geo_df\n",
    "\n",
    "geo_df = geo_df_coding(addresses)"
   ]
  },
  {
   "cell_type": "markdown",
   "metadata": {},
   "source": [
    "# Naver Map API"
   ]
  },
  {
   "cell_type": "code",
   "execution_count": 3,
   "metadata": {},
   "outputs": [],
   "source": [
    "# *-- Geocoding 활용 코드 --*\n",
    "import json\n",
    "import urllib\n",
    "from urllib.request import Request, urlopen\n",
    "\n",
    "# 주소에 geocoding 적용하는 함수를 작성.\n",
    "def get_location(loc) :\n",
    "    # 내 고유값임 (공개안되도록)\n",
    "    client_id = 'wi1vd6qb31'\n",
    "    client_secret = 'NWOOthvHMkC11OEqF93vhqXPzsTellMMEq08gtf4'\n",
    "\n",
    "    url = f\"https://naveropenapi.apigw.ntruss.com/map-geocode/v2/geocode?query=\" \\\n",
    "    \t\t\t+ urllib.parse.quote(loc)\n",
    "    \n",
    "    # 주소 변환\n",
    "    request = urllib.request.Request(url)\n",
    "    request.add_header('X-NCP-APIGW-API-KEY-ID', client_id)\n",
    "    request.add_header('X-NCP-APIGW-API-KEY', client_secret)\n",
    "    \n",
    "    response = urlopen(request)\n",
    "    res = response.getcode()\n",
    "    \n",
    "    if (res == 200) : # 응답이 정상적으로 완료되면 200을 return\n",
    "        response_body = response.read().decode('utf-8')\n",
    "        response_body = json.loads(response_body)\n",
    "        # print(response_body)\n",
    "        \n",
    "        # 주소가 존재할 경우 total count == 1이 반환됨.\n",
    "        if response_body['meta']['totalCount'] == 1 : \n",
    "        \t# 위도, 경도 좌표를 받아와서 return해 줌.\n",
    "            lat = response_body['addresses'][0]['y']\n",
    "            lon = response_body['addresses'][0]['x']\n",
    "            return (lon, lat)\n",
    "        else :\n",
    "            print('location not exist')\n",
    "        \n",
    "    else :\n",
    "        print('ERROR')\n",
    "        \n",
    "# *-- Directions 5 활용 코드 --*\n",
    "\n",
    "# option : 탐색옵션 [최대 3개, traoptimal(기본 옵션) \n",
    "# trafast 실시간 빠른길\n",
    "# tracomfort 실시간 편한길\n",
    "# traoptimal 실시간 최적\n",
    "# traavoidtoll 무료 우선\n",
    "# traavoidcaronly 자동차 전용도로 회피 우선\n",
    "\n",
    "option = 'traoptimal'\n",
    "\n",
    "def get_optimal_route(start, goal, option=option ) :\n",
    "\n",
    "    # 내 고유값임 (공개안되도록)\n",
    "    client_id = 'wi1vd6qb31'\n",
    "    client_secret = 'NWOOthvHMkC11OEqF93vhqXPzsTellMMEq08gtf4'\n",
    "\n",
    "    # start=/goal=/(waypoint=)/(option=) 순으로 request parameter 지정\n",
    "    url = f\"https://naveropenapi.apigw.ntruss.com/map-direction-15/v1/driving?start={start[0]},{start[1]}&goal={goal[0]},{goal[1]}&option={option}\"\n",
    "    request = urllib.request.Request(url)\n",
    "    request.add_header('X-NCP-APIGW-API-KEY-ID', client_id)\n",
    "    request.add_header('X-NCP-APIGW-API-KEY', client_secret)\n",
    "    \n",
    "    response = urllib.request.urlopen(request)\n",
    "    res = response.getcode()\n",
    "    \n",
    "    if (res == 200) :\n",
    "        response_body = response.read().decode('utf-8')\n",
    "        return json.loads(response_body)\n",
    "            \n",
    "    else :\n",
    "        print('ERROR')"
   ]
  },
  {
   "cell_type": "code",
   "execution_count": 24,
   "metadata": {},
   "outputs": [
    {
     "name": "stdout",
     "output_type": "stream",
     "text": [
      "{'message': '길찾기를 성공하였습니다.', 'option': 'traoptimal', 'total_distance': 403827, 'total_duration': 19209108, 'fares': {'toll': 22100, 'taxi': 370010, 'fuel': 59173}}\n"
     ]
    }
   ],
   "source": [
    "# Example\n",
    "# *-- 목적지까지의 종합 정보 추출(총 거리, 총 소요시간, 요금 등) --*\n",
    "# 총거리 : 전체 경로 거리(meters)\n",
    "# 총소요시간 : \t전체 경로 소요 시간(milisecond(1/1000초))\n",
    "message = {\n",
    "    'message' : results['message'], # traoptimal은 option 에 따라 다르게 줄 것\n",
    "    'option' : list(results['route'].keys())[0],\n",
    "    'total_distance' : results['route']['traoptimal'][0]['summary']['distance'],\n",
    "    'total_duration' : results['route']['traoptimal'][0]['summary']['duration'],\n",
    "    'fares' : {'toll' : results['route']['traoptimal'][0]['summary']['tollFare'],\n",
    "              'taxi' : results['route']['traoptimal'][0]['summary']['taxiFare'],\n",
    "              'fuel' : results['route']['traoptimal'][0]['summary']['fuelPrice']}\n",
    "}\n",
    "print(message)"
   ]
  },
  {
   "cell_type": "code",
   "execution_count": 25,
   "metadata": {},
   "outputs": [
    {
     "name": "stdout",
     "output_type": "stream",
     "text": [
      "[(\"'창의문로' 방면으로 우회전\", 12, 2.879), ('우회전', 1117, 161.99), (\"세검정에서 '북악터널' 방면으로 오른쪽 방향\", 1012, 172.187), (\"국민대입구에서 '내부순환로' 방면으로 오른쪽 고가차도 진입\", 4037, 603.958), ('도시고속도로 진입', 18, 2.212), (\"하월곡분기점교차로에서 '북부간선도로(구리·월릉IC)' 방면으로 오른쪽 방향\", 3636, 325.378), (\"중랑IC에서 '남구리IC' 방면으로 오른쪽 고속도로 진입\", 7209, 1197.352), ('중랑톨게이트 (통행료 1,400원)', 184, 10.95), (\"남구리IC에서 '서울, 강변북로' 방면으로 오른쪽 고속도로 출구\", 5116, 250.988), (\"아천IC에서 '구리암사대교, 올림픽대교, 구리시청·경찰서' 방면으로 오른쪽 방향\", 766, 87.298), (\"아천IC에서 '구리암사대교, 올림픽대교' 방면으로 왼쪽 방향\", 168, 56.631), (\"암사IC에서 '종합운동장, 천호대교, 춘천' 방면으로 오른쪽 도시고속도로 진입\", 1476, 436.486), (\"암사IC에서 '강일IC' 방면으로 왼쪽 방향\", 185, 48.372), (\"강일IC에서 '수도권제1순환선, 대전, 판교' 방면으로 오른쪽 고속도로 진입\", 2870, 336.058), (\"하남분기점에서 '중부고속도로, 대전, 광주(경안)' 방면으로 왼쪽 도로 주행\", 5392, 444.851), ('동서울톨게이트', 3680, 159.97), ('분기도로 진입', 1760, 79.803), (\"산곡분기점에서 '대전, 서이천, 곤지암' 방면으로 오른쪽 방향\", 2079, 94.271), (\"호법분기점에서 '강릉, 인천' 방면으로 오른쪽 방향\", 33114, 1329.34), (\"호법분기점에서 '강릉' 방면으로 왼쪽 방향\", 177, 8.228), (\"여주분기점에서 '충주, 양평' 방면으로 오른쪽 방향\", 15208, 597.252), (\"여주분기점에서 '충주' 방면으로 오른쪽 방향\", 386, 16.704), (\"낙동분기점에서 '영덕' 방면으로 오른쪽 방향\", 126377, 5541.655), (\"낙동분기점에서 '영덕, 영천' 방면으로 오른쪽 방향\", 250, 17.408), (\"낙동분기점에서 '영덕·영천, 상주분기점' 방면으로 왼쪽 방향\", 505, 33.928), ('영천분기점톨게이트1 (통행료 15,900원)', 91383, 3261.039), (\"서울주분기점에서 '부산' 방면으로 왼쪽 도로 주행\", 58922, 2171.957), (\"양산분기점에서 '부산' 방면으로 왼쪽 방향\", 21195, 772.345), ('부산톨게이트 (통행료 4,800원)', 9236, 351.381), (\"'금정로119번길' 방면으로 우회전\", 5440, 456.107), ('좌회전', 532, 113.662), ('우회전', 147, 23.258), ('우회전', 159, 30.283), ('목적지', 79, 12.927)]\n"
     ]
    }
   ],
   "source": [
    "# Example\n",
    "# *-- 목적지까지의 guidence와 각각의 거리, 소요시간 정보 추출 --*\n",
    "temp = [ (guide['instructions'], guide['distance'] , guide['duration'] / 1000 ) \\\n",
    "for guide in results['route']['traoptimal'][0]['guide'] ]\n",
    "\n",
    "print(temp)"
   ]
  },
  {
   "cell_type": "code",
   "execution_count": 6,
   "metadata": {},
   "outputs": [],
   "source": [
    "addresses = ['서울시 도봉구 방학로6길 25', \n",
    "           '서울시 도봉구 덕릉로63길 19',\n",
    "           '서울시 도봉구 해등로 133',\n",
    "           '서울시 도봉구 방학로3길 16',\n",
    "           '서울시 도봉구 도봉로133길 42',\n",
    "           '서울시 도봉구 덕릉로59나길 20',\n",
    "           '서울시 도봉구 해등로16가길 32',\n",
    "           '서울시 도봉구 우이천로34길 38',\n",
    "           '서울시 도봉구 노해로 41길 9',\n",
    "           '서울시 도봉구 도봉로 969',\n",
    "           '서울특별시 도봉구 마들로 656']\n",
    "\n",
    "address_list = []\n",
    "for address in addresses:\n",
    "    address_list.append(get_location(address))\n",
    "    \n",
    "dist_mat = np.zeros((geo_df.shape[0], geo_df.shape[0]))\n",
    "time_mat = np.zeros((geo_df.shape[0], geo_df.shape[0]))\n",
    "\n",
    "option = 'traoptimal'\n",
    "for i in range(geo_df.shape[0]):\n",
    "    for j in range(geo_df.shape[0]):\n",
    "        if (i==j):\n",
    "            dist_mat[i][j] = 0\n",
    "            time_mat[i][j] = 0\n",
    "        else:\n",
    "            results = get_optimal_route(start = address_list[i], goal = address_list[j], option=option)\n",
    "\n",
    "            dist_mat[i][j] = results['route']['traoptimal'][0]['summary'][\"distance\"]\n",
    "            time_mat[i][j] = results['route']['traoptimal'][0]['summary'][\"duration\"]\n",
    "\n"
   ]
  },
  {
   "cell_type": "code",
   "execution_count": 10,
   "metadata": {},
   "outputs": [
    {
     "data": {
      "text/plain": [
       "array([[   0., 3396., 1487.,  576.,  916., 3648., 2567., 2693., 2533.,\n",
       "        4243., 1892.],\n",
       "       [3383.,    0., 2495., 3006., 2334.,  441., 1772., 2739., 2519.,\n",
       "        6431., 4055.],\n",
       "       [1595., 1935.,    0., 1218.,  546., 2187.,  397., 2146., 1858.,\n",
       "        4643., 2267.],\n",
       "       [1144., 2898.,  989.,    0.,  678., 3150., 2240., 2698., 2410.,\n",
       "        3879., 1528.],\n",
       "       [1164., 2389.,  480.,  678.,    0., 2641., 1542., 2199., 1911.,\n",
       "        4949., 2287.],\n",
       "       [3525.,  142., 2637., 3148., 2476.,    0., 1914., 2881., 2661.,\n",
       "        6573., 4197.],\n",
       "       [1767., 1827., 1550., 1390.,  718., 2079.,    0., 2038., 1750.,\n",
       "        4815., 2439.],\n",
       "       [4092., 2436., 2096., 2819., 2182., 2503., 2031.,    0.,  288.,\n",
       "        6279., 3903.],\n",
       "       [2577., 2148., 1808., 2566., 1894., 2283., 1743.,  288.,    0.,\n",
       "        5991., 3615.],\n",
       "       [3625., 6090., 4181., 3557., 4159., 6342., 5432., 5890., 5602.,\n",
       "           0., 2938.],\n",
       "       [2069., 4520., 2735., 1777., 2453., 4772., 3395., 4184., 3896.,\n",
       "        3442.,    0.]])"
      ]
     },
     "execution_count": 10,
     "metadata": {},
     "output_type": "execute_result"
    }
   ],
   "source": [
    "dist_mat"
   ]
  },
  {
   "cell_type": "code",
   "execution_count": 11,
   "metadata": {},
   "outputs": [
    {
     "data": {
      "text/plain": [
       "array([[      0.,  675082.,  473962.,  158295.,  221647.,  735180.,\n",
       "         840963.,  711327.,  672623.,  794367.,  752267.],\n",
       "       [ 785601.,       0.,  843094.,  690345.,  708479.,  102742.,\n",
       "         469083.,  743088.,  686805., 1309237., 1070461.],\n",
       "       [ 494318.,  406674.,       0.,  438102.,  174205.,  457052.,\n",
       "         100052.,  533580.,  466169.,  909655.,  763393.],\n",
       "       [ 353382.,  730940.,  336981.,       0.,  225525.,  644210.,\n",
       "         878028.,  666590.,  599179.,  689380.,  606122.],\n",
       "       [ 368384.,  590484.,  196525.,  183169.,       0.,  640862.,\n",
       "         509501.,  515926.,  448515., 1056600.,  782435.],\n",
       "       [ 807070.,   35906.,  879001.,  715477.,  744386.,       0.,\n",
       "         504990.,  778995.,  722712., 1341608., 1060899.],\n",
       "       [ 607080.,  379861.,  487023.,  510313.,  286967.,  430239.,\n",
       "              0.,  506767.,  439356.,  978916.,  835604.],\n",
       "       [ 777599.,  746469.,  816527.,  899133.,  808431.,  851345.,\n",
       "         789633.,       0.,  137692., 1420416., 1407372.],\n",
       "       [ 860022.,  608776.,  678834.,  958269.,  670738.,  793259.,\n",
       "         651940.,   69816.,       0., 1328869., 1282881.],\n",
       "       [ 683456., 1243632.,  879988.,  691489.,  842671., 1308137.,\n",
       "        1344026., 1222829., 1188099.,       0.,  663841.],\n",
       "       [ 633200.,  689250.,  658754.,  456954.,  689641.,  765471.,\n",
       "         668233.,  870128.,  814109.,  610051.,       0.]])"
      ]
     },
     "execution_count": 11,
     "metadata": {},
     "output_type": "execute_result"
    }
   ],
   "source": [
    "time_mat"
   ]
  },
  {
   "cell_type": "code",
   "execution_count": null,
   "metadata": {},
   "outputs": [],
   "source": []
  }
 ],
 "metadata": {
  "kernelspec": {
   "display_name": "Python 3.9.12",
   "language": "python",
   "name": "python3"
  },
  "language_info": {
   "codemirror_mode": {
    "name": "ipython",
    "version": 3
   },
   "file_extension": ".py",
   "mimetype": "text/x-python",
   "name": "python",
   "nbconvert_exporter": "python",
   "pygments_lexer": "ipython3",
   "version": "3.9.12"
  },
  "orig_nbformat": 4,
  "vscode": {
   "interpreter": {
    "hash": "69992081f1adf84c247ca792f4c459ccf807db71fb713b5b7f7e0e76b1130414"
   }
  }
 },
 "nbformat": 4,
 "nbformat_minor": 2
}
