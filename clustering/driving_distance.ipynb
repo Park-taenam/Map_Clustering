{
 "cells": [
  {
   "cell_type": "code",
   "execution_count": 1,
   "metadata": {},
   "outputs": [],
   "source": [
    "import os\n",
    "import numpy as np\n",
    "import pandas as pd\n",
    "import matplotlib.pyplot as plt\n",
    "from haversine import haversine\n",
    "from geopy.geocoders import Nominatim\n",
    "from sklearn.cluster import KMeans\n",
    "import scipy.stats as stats\n",
    "import folium\n",
    "import itertools\n",
    "import statistics\n",
    "import string\n",
    "\n",
    "import warnings\n",
    "warnings.filterwarnings(\"ignore\")"
   ]
  },
  {
   "cell_type": "markdown",
   "metadata": {},
   "source": [
    "# Naver Map API"
   ]
  },
  {
   "cell_type": "code",
   "execution_count": 2,
   "metadata": {},
   "outputs": [],
   "source": [
    "# *-- Geocoding 활용 코드 --*\n",
    "import json\n",
    "import urllib\n",
    "from urllib.request import Request, urlopen"
   ]
  },
  {
   "cell_type": "code",
   "execution_count": null,
   "metadata": {},
   "outputs": [],
   "source": [
    "# 주소에 geocoding 적용하는 함수를 작성.\n",
    "def get_location(loc) :\n",
    "    # 내 고유값임 (공개안되도록)\n",
    "    client_id = 'wi1vd6qb31'\n",
    "    client_secret = 'NWOOthvHMkC11OEqF93vhqXPzsTellMMEq08gtf4'\n",
    "\n",
    "    url = f\"https://naveropenapi.apigw.ntruss.com/map-geocode/v2/geocode?query=\" \\\n",
    "    \t\t\t+ urllib.parse.quote(loc)\n",
    "    \n",
    "    # 주소 변환\n",
    "    request = urllib.request.Request(url)\n",
    "    request.add_header('X-NCP-APIGW-API-KEY-ID', client_id)\n",
    "    request.add_header('X-NCP-APIGW-API-KEY', client_secret)\n",
    "    \n",
    "    response = urlopen(request)\n",
    "    res = response.getcode()\n",
    "    \n",
    "    if (res == 200) : # 응답이 정상적으로 완료되면 200을 return\n",
    "        response_body = response.read().decode('utf-8')\n",
    "        response_body = json.loads(response_body)\n",
    "        # print(response_body)\n",
    "        \n",
    "        # 주소가 존재할 경우 total count == 1이 반환됨.\n",
    "        if response_body['meta']['totalCount'] == 1 : \n",
    "        \t# 위도, 경도 좌표를 받아와서 return해 줌.\n",
    "            lat = response_body['addresses'][0]['y']\n",
    "            lon = response_body['addresses'][0]['x']\n",
    "            return (lon, lat)\n",
    "        else :\n",
    "            print('location not exist')\n",
    "        \n",
    "    else :\n",
    "        print('ERROR')"
   ]
  },
  {
   "cell_type": "code",
   "execution_count": null,
   "metadata": {},
   "outputs": [],
   "source": [
    "# *-- Directions 5 활용 코드 --*\n",
    "\n",
    "# option : 탐색옵션 [최대 3개, traoptimal(기본 옵션)]\n",
    "# trafast 실시간 빠른길\n",
    "# tracomfort 실시간 편한길\n",
    "# traoptimal 실시간 최적\n",
    "# traavoidtoll 무료 우선\n",
    "# traavoidcaronly 자동차 전용도로 회피 우선\n",
    "option = 'traoptimal'\n",
    "\n",
    "def get_optimal_route(start, goal, option=option ) :\n",
    "\n",
    "    # 내 고유값임 (공개안되도록)\n",
    "    client_id = 'wi1vd6qb31'\n",
    "    client_secret = 'NWOOthvHMkC11OEqF93vhqXPzsTellMMEq08gtf4'\n",
    "\n",
    "    # start=/goal=/(waypoint=)/(option=) 순으로 request parameter 지정\n",
    "    url = f\"https://naveropenapi.apigw.ntruss.com/map-direction-15/v1/driving?start={start[0]},{start[1]}&goal={goal[0]},{goal[1]}&option={option}\"\n",
    "    request = urllib.request.Request(url)\n",
    "    request.add_header('X-NCP-APIGW-API-KEY-ID', client_id)\n",
    "    request.add_header('X-NCP-APIGW-API-KEY', client_secret)\n",
    "    \n",
    "    response = urllib.request.urlopen(request)\n",
    "    res = response.getcode()\n",
    "    \n",
    "    if (res == 200) :\n",
    "        response_body = response.read().decode('utf-8')\n",
    "        return json.loads(response_body)\n",
    "            \n",
    "    else :\n",
    "        print('ERROR')"
   ]
  },
  {
   "cell_type": "code",
   "execution_count": null,
   "metadata": {},
   "outputs": [],
   "source": [
    "# 주소에서 위도, 경도 뽑고 df 만드는 함수\n",
    "def geo_df_coding(addresses):\n",
    "    geo_list = []\n",
    "    for address in addresses:\n",
    "        geo_list.append(get_location(address))\n",
    "        \n",
    "    geo_df = pd.DataFrame(geo_list)\n",
    "    geo_df.columns = ['longitude', 'latitude']\n",
    "    geo_df = geo_df[['latitude', 'longitude']]\n",
    "\n",
    "    return geo_df, geo_list"
   ]
  },
  {
   "cell_type": "code",
   "execution_count": null,
   "metadata": {},
   "outputs": [],
   "source": [
    "# 도로상 거리, 시간 계산해주는 함수\n",
    "def dist_time_mat(geo_df, geo_list):\n",
    "    dist_mat = np.zeros((geo_df.shape[0], geo_df.shape[0]))\n",
    "    time_mat = np.zeros((geo_df.shape[0], geo_df.shape[0]))\n",
    "\n",
    "    option = 'traoptimal'\n",
    "    for i in range(geo_df.shape[0]):\n",
    "        for j in range(geo_df.shape[0]):\n",
    "            if (i==j):\n",
    "                dist_mat[i][j] = 0\n",
    "                time_mat[i][j] = 0\n",
    "            else:\n",
    "                results = get_optimal_route(start = geo_list[i], goal = geo_list[j], option=option)\n",
    "\n",
    "                dist_mat[i][j] = results['route']['traoptimal'][0]['summary'][\"distance\"]\n",
    "                time_mat[i][j] = results['route']['traoptimal'][0]['summary'][\"duration\"]\n",
    "                \n",
    "    return dist_mat, time_mat"
   ]
  },
  {
   "cell_type": "code",
   "execution_count": 3,
   "metadata": {},
   "outputs": [],
   "source": [
    "addresses = ['서울시 도봉구 방학로6길 25', \n",
    "           '서울시 도봉구 덕릉로63길 19',\n",
    "           '서울시 도봉구 해등로 133',\n",
    "           '서울시 도봉구 방학로3길 16',\n",
    "           '서울시 도봉구 도봉로133길 42',\n",
    "           '서울시 도봉구 덕릉로59나길 20',\n",
    "           '서울시 도봉구 해등로16가길 32',\n",
    "           '서울시 도봉구 우이천로34길 38',\n",
    "           '서울시 도봉구 노해로 41길 9',\n",
    "           '서울시 도봉구 도봉로 969',\n",
    "           '서울특별시 도봉구 마들로 656']\n",
    "\n",
    "geo_df, geo_list = geo_df_coding(addresses)\n",
    "\n",
    "dist_mat, time_mat = dist_time_mat(geo_df, geo_list)"
   ]
  },
  {
   "cell_type": "markdown",
   "metadata": {},
   "source": [
    "# Algorithm"
   ]
  },
  {
   "cell_type": "markdown",
   "metadata": {},
   "source": []
  }
 ],
 "metadata": {
  "kernelspec": {
   "display_name": "Python 3.9.12",
   "language": "python",
   "name": "python3"
  },
  "language_info": {
   "codemirror_mode": {
    "name": "ipython",
    "version": 3
   },
   "file_extension": ".py",
   "mimetype": "text/x-python",
   "name": "python",
   "nbconvert_exporter": "python",
   "pygments_lexer": "ipython3",
   "version": "3.9.12"
  },
  "orig_nbformat": 4,
  "vscode": {
   "interpreter": {
    "hash": "69992081f1adf84c247ca792f4c459ccf807db71fb713b5b7f7e0e76b1130414"
   }
  }
 },
 "nbformat": 4,
 "nbformat_minor": 2
}
