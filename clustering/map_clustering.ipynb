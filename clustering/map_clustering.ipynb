{
 "cells": [
  {
   "cell_type": "markdown",
   "metadata": {},
   "source": [
    "# Map Clustering\n"
   ]
  },
  {
   "cell_type": "code",
   "execution_count": null,
   "metadata": {},
   "outputs": [],
   "source": [
    "# !pip install haversine\n",
    "# !pip install geopy\n",
    "# !pip install folium"
   ]
  },
  {
   "cell_type": "markdown",
   "metadata": {},
   "source": [
    "## Baseline"
   ]
  },
  {
   "cell_type": "code",
   "execution_count": 30,
   "metadata": {},
   "outputs": [],
   "source": [
    "import os\n",
    "import numpy as np\n",
    "import pandas as pd\n",
    "import matplotlib.pyplot as plt\n",
    "from haversine import haversine\n",
    "from geopy.geocoders import Nominatim\n",
    "from sklearn.cluster import KMeans\n",
    "import scipy.stats as stats\n",
    "import folium\n",
    "\n",
    "import warnings\n",
    "warnings.filterwarnings(\"ignore\")"
   ]
  },
  {
   "cell_type": "code",
   "execution_count": 10,
   "metadata": {},
   "outputs": [],
   "source": [
    "addresses = ['서울시 도봉구 방학로6길 25', \n",
    "           '서울시 도봉구 덕릉로63길 19',\n",
    "           '서울시 도봉구 해등로 133',\n",
    "           '서울시 도봉구 방학로3길 16',\n",
    "           '서울시 도봉구 도봉로133길 42',\n",
    "           '서울시 도봉구 덕릉로59나길 20',\n",
    "           '서울시 도봉구 해등로16가길 32',\n",
    "           '서울시 도봉구 우이천로34길 38',\n",
    "           '서울시 도봉구 노해로 41길 9',\n",
    "           '서울시 도봉구 도봉로 969',\n",
    "           '서울시 도봉구 방학1동 마들로 656']\n",
    "\n"
   ]
  },
  {
   "cell_type": "code",
   "execution_count": 20,
   "metadata": {},
   "outputs": [],
   "source": [
    "def geocoding(address):\n",
    "    geolocoder = Nominatim(user_agent = 'South Korea', timeout=None)\n",
    "    geo = geolocoder.geocode(address)\n",
    "    crd = (float(geo.latitude), float(geo.longitude))\n",
    "\n",
    "    return crd\n",
    "\n",
    "def geo_df_coding(addresses):\n",
    "    geo_list = []\n",
    "    for address in addresses:\n",
    "        crd = geocoding(address)\n",
    "        geo_list.append(crd)\n",
    "    geo_df = pd.DataFrame(geo_list)\n",
    "    geo_df.columns = ['latitude', 'longitude']\n",
    "    \n",
    "    return geo_df"
   ]
  },
  {
   "cell_type": "code",
   "execution_count": 22,
   "metadata": {},
   "outputs": [],
   "source": [
    "geo_df = geo_df_coding(addresses)\n",
    "locations = list(zip(geo_df['latitude'], geo_df['longitude']))"
   ]
  },
  {
   "cell_type": "code",
   "execution_count": 26,
   "metadata": {},
   "outputs": [
    {
     "data": {
      "text/html": [
       "<div style=\"width:100%;\"><div style=\"position:relative;width:100%;height:0;padding-bottom:60%;\"><span style=\"color:#565656\">Make this Notebook Trusted to load map: File -> Trust Notebook</span><iframe srcdoc=\"&lt;!DOCTYPE html&gt;\n",
       "&lt;head&gt;    \n",
       "    &lt;meta http-equiv=&quot;content-type&quot; content=&quot;text/html; charset=UTF-8&quot; /&gt;\n",
       "    \n",
       "        &lt;script&gt;\n",
       "            L_NO_TOUCH = false;\n",
       "            L_DISABLE_3D = false;\n",
       "        &lt;/script&gt;\n",
       "    \n",
       "    &lt;style&gt;html, body {width: 100%;height: 100%;margin: 0;padding: 0;}&lt;/style&gt;\n",
       "    &lt;style&gt;#map {position:absolute;top:0;bottom:0;right:0;left:0;}&lt;/style&gt;\n",
       "    &lt;script src=&quot;https://cdn.jsdelivr.net/npm/leaflet@1.6.0/dist/leaflet.js&quot;&gt;&lt;/script&gt;\n",
       "    &lt;script src=&quot;https://code.jquery.com/jquery-1.12.4.min.js&quot;&gt;&lt;/script&gt;\n",
       "    &lt;script src=&quot;https://maxcdn.bootstrapcdn.com/bootstrap/3.2.0/js/bootstrap.min.js&quot;&gt;&lt;/script&gt;\n",
       "    &lt;script src=&quot;https://cdnjs.cloudflare.com/ajax/libs/Leaflet.awesome-markers/2.0.2/leaflet.awesome-markers.js&quot;&gt;&lt;/script&gt;\n",
       "    &lt;link rel=&quot;stylesheet&quot; href=&quot;https://cdn.jsdelivr.net/npm/leaflet@1.6.0/dist/leaflet.css&quot;/&gt;\n",
       "    &lt;link rel=&quot;stylesheet&quot; href=&quot;https://maxcdn.bootstrapcdn.com/bootstrap/3.2.0/css/bootstrap.min.css&quot;/&gt;\n",
       "    &lt;link rel=&quot;stylesheet&quot; href=&quot;https://maxcdn.bootstrapcdn.com/bootstrap/3.2.0/css/bootstrap-theme.min.css&quot;/&gt;\n",
       "    &lt;link rel=&quot;stylesheet&quot; href=&quot;https://maxcdn.bootstrapcdn.com/font-awesome/4.6.3/css/font-awesome.min.css&quot;/&gt;\n",
       "    &lt;link rel=&quot;stylesheet&quot; href=&quot;https://cdnjs.cloudflare.com/ajax/libs/Leaflet.awesome-markers/2.0.2/leaflet.awesome-markers.css&quot;/&gt;\n",
       "    &lt;link rel=&quot;stylesheet&quot; href=&quot;https://cdn.jsdelivr.net/gh/python-visualization/folium/folium/templates/leaflet.awesome.rotate.min.css&quot;/&gt;\n",
       "    \n",
       "            &lt;meta name=&quot;viewport&quot; content=&quot;width=device-width,\n",
       "                initial-scale=1.0, maximum-scale=1.0, user-scalable=no&quot; /&gt;\n",
       "            &lt;style&gt;\n",
       "                #map_7bc8fc267700c18657f1215058c32ded {\n",
       "                    position: relative;\n",
       "                    width: 100.0%;\n",
       "                    height: 100.0%;\n",
       "                    left: 0.0%;\n",
       "                    top: 0.0%;\n",
       "                }\n",
       "            &lt;/style&gt;\n",
       "        \n",
       "&lt;/head&gt;\n",
       "&lt;body&gt;    \n",
       "    \n",
       "            &lt;div class=&quot;folium-map&quot; id=&quot;map_7bc8fc267700c18657f1215058c32ded&quot; &gt;&lt;/div&gt;\n",
       "        \n",
       "&lt;/body&gt;\n",
       "&lt;script&gt;    \n",
       "    \n",
       "            var map_7bc8fc267700c18657f1215058c32ded = L.map(\n",
       "                &quot;map_7bc8fc267700c18657f1215058c32ded&quot;,\n",
       "                {\n",
       "                    center: [37.6640173, 127.0370369],\n",
       "                    crs: L.CRS.EPSG3857,\n",
       "                    zoom: 14,\n",
       "                    zoomControl: true,\n",
       "                    preferCanvas: false,\n",
       "                }\n",
       "            );\n",
       "\n",
       "            \n",
       "\n",
       "        \n",
       "    \n",
       "            var tile_layer_0365ac6bfc6c3deb8606d3133c07155e = L.tileLayer(\n",
       "                &quot;https://{s}.tile.openstreetmap.org/{z}/{x}/{y}.png&quot;,\n",
       "                {&quot;attribution&quot;: &quot;Data by \\u0026copy; \\u003ca href=\\&quot;http://openstreetmap.org\\&quot;\\u003eOpenStreetMap\\u003c/a\\u003e, under \\u003ca href=\\&quot;http://www.openstreetmap.org/copyright\\&quot;\\u003eODbL\\u003c/a\\u003e.&quot;, &quot;detectRetina&quot;: false, &quot;maxNativeZoom&quot;: 18, &quot;maxZoom&quot;: 18, &quot;minZoom&quot;: 0, &quot;noWrap&quot;: false, &quot;opacity&quot;: 1, &quot;subdomains&quot;: &quot;abc&quot;, &quot;tms&quot;: false}\n",
       "            ).addTo(map_7bc8fc267700c18657f1215058c32ded);\n",
       "        \n",
       "    \n",
       "            var marker_87a383b1c16ad267737773651f52f7f5 = L.marker(\n",
       "                [37.6640173, 127.0370369],\n",
       "                {}\n",
       "            ).addTo(map_7bc8fc267700c18657f1215058c32ded);\n",
       "        \n",
       "    \n",
       "            var marker_042dff15ccbce6eee024f8d39e4660c9 = L.marker(\n",
       "                [37.6420738, 127.0401893],\n",
       "                {}\n",
       "            ).addTo(map_7bc8fc267700c18657f1215058c32ded);\n",
       "        \n",
       "    \n",
       "            var marker_451ba38474acd0a95b03c4f5855b51ec = L.marker(\n",
       "                [37.6585558, 127.0346127],\n",
       "                {}\n",
       "            ).addTo(map_7bc8fc267700c18657f1215058c32ded);\n",
       "        \n",
       "    \n",
       "            var marker_4bd6cb7efbd50b00e951bc45d9fbdc8d = L.marker(\n",
       "                [37.6597268, 127.0395908],\n",
       "                {}\n",
       "            ).addTo(map_7bc8fc267700c18657f1215058c32ded);\n",
       "        \n",
       "    \n",
       "            var marker_196acfcfa9f13c90c5eb0f0d6473484c = L.marker(\n",
       "                [37.6580715, 127.0394323],\n",
       "                {}\n",
       "            ).addTo(map_7bc8fc267700c18657f1215058c32ded);\n",
       "        \n",
       "    \n",
       "            var marker_c70c8b279ebbc6cdcb137d94381c2113 = L.marker(\n",
       "                [37.6404921, 127.0387971],\n",
       "                {}\n",
       "            ).addTo(map_7bc8fc267700c18657f1215058c32ded);\n",
       "        \n",
       "    \n",
       "            var marker_078259ede1ff9fffe4a92d552ee5464d = L.marker(\n",
       "                [37.6552868, 127.0413712],\n",
       "                {}\n",
       "            ).addTo(map_7bc8fc267700c18657f1215058c32ded);\n",
       "        \n",
       "    \n",
       "            var marker_eec47c44b7e91f4024bb07e617ca208b = L.marker(\n",
       "                [37.6498202, 127.0227868],\n",
       "                {}\n",
       "            ).addTo(map_7bc8fc267700c18657f1215058c32ded);\n",
       "        \n",
       "    \n",
       "            var marker_bc01bf9a0054c47d932ae87d60d4c0e8 = L.marker(\n",
       "                [37.6510841, 127.0326932],\n",
       "                {}\n",
       "            ).addTo(map_7bc8fc267700c18657f1215058c32ded);\n",
       "        \n",
       "    \n",
       "            var marker_c21448701b7142c80fc750dd1b48234a = L.marker(\n",
       "                [37.6670101, 127.0433697],\n",
       "                {}\n",
       "            ).addTo(map_7bc8fc267700c18657f1215058c32ded);\n",
       "        \n",
       "    \n",
       "            var marker_fd4bd6e45d823d199b6975325e484d31 = L.marker(\n",
       "                [37.6687691, 127.0464912],\n",
       "                {}\n",
       "            ).addTo(map_7bc8fc267700c18657f1215058c32ded);\n",
       "        \n",
       "&lt;/script&gt;\" style=\"position:absolute;width:100%;height:100%;left:0;top:0;border:none !important;\" allowfullscreen webkitallowfullscreen mozallowfullscreen></iframe></div></div>"
      ],
      "text/plain": [
       "<folium.folium.Map at 0x11389d1ab50>"
      ]
     },
     "execution_count": 26,
     "metadata": {},
     "output_type": "execute_result"
    }
   ],
   "source": [
    "# 주소 지점 위치\n",
    "m = folium.Map(location = [locations[0][0], locations[0][1]], zoom_start=14)\n",
    "\n",
    "for i in range(len(locations)):\n",
    "    folium.Marker([float(locations[i][0]), float(locations[i][1])]).add_to(m)\n",
    "m"
   ]
  },
  {
   "cell_type": "markdown",
   "metadata": {},
   "source": [
    "## Clustering by K-Means"
   ]
  },
  {
   "cell_type": "code",
   "execution_count": 31,
   "metadata": {},
   "outputs": [
    {
     "data": {
      "image/png": "[encoded data removed]",
      "text/plain": [
       "<Figure size 432x288 with 1 Axes>"
      ]
     },
     "metadata": {
      "needs_background": "light"
     },
     "output_type": "display_data"
    }
   ],
   "source": [
    "# Determination of K\n",
    "num_clusters = list(range(1,12))\n",
    "inertias = []\n",
    "\n",
    "# 각 k별로 모델을 생성하여 inertia를 측정\n",
    "for i in num_clusters:\n",
    "    model = KMeans(n_clusters=i, init='k-means++')\n",
    "    model.fit(geo_df)\n",
    "    inertias.append(model.inertia_)\n",
    "\n",
    "# K에 따른 inertia의 변화를 시각화\n",
    "plt.plot(num_clusters, inertias, '-o')\n",
    "plt.xlabel('Number of Clusters (k)')\n",
    "plt.ylabel(\"Inertia\")\n",
    "plt.show()"
   ]
  },
  {
   "cell_type": "code",
   "execution_count": null,
   "metadata": {},
   "outputs": [],
   "source": []
  }
 ],
 "metadata": {
  "kernelspec": {
   "display_name": "Python 3.9.12",
   "language": "python",
   "name": "python3"
  },
  "language_info": {
   "codemirror_mode": {
    "name": "ipython",
    "version": 3
   },
   "file_extension": ".py",
   "mimetype": "text/x-python",
   "name": "python",
   "nbconvert_exporter": "python",
   "pygments_lexer": "ipython3",
   "version": "3.9.12"
  },
  "orig_nbformat": 4,
  "vscode": {
   "interpreter": {
    "hash": "69992081f1adf84c247ca792f4c459ccf807db71fb713b5b7f7e0e76b1130414"
   }
  }
 },
 "nbformat": 4,
 "nbformat_minor": 2
}
